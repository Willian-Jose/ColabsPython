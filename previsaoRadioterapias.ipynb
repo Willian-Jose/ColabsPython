{
  "cells": [
    {
      "cell_type": "markdown",
      "metadata": {
        "id": "view-in-github",
        "colab_type": "text"
      },
      "source": [
        "<a href=\"https://colab.research.google.com/github/Willian-Jose/ColabsPython/blob/main/previsaoRadioterapias.ipynb\" target=\"_parent\"><img src=\"https://colab.research.google.com/assets/colab-badge.svg\" alt=\"Open In Colab\"/></a>"
      ]
    },
    {
      "cell_type": "code",
      "execution_count": 2,
      "metadata": {
        "scrolled": true,
        "id": "JVmnmRPtY250",
        "outputId": "b65ab03b-8bb8-4125-9106-3d1021e95265",
        "colab": {
          "base_uri": "https://localhost:8080/"
        }
      },
      "outputs": [
        {
          "output_type": "stream",
          "name": "stdout",
          "text": [
            "Versão da Linguagem Python Usada Neste Jupyter Notebook: 3.8.10\n"
          ]
        }
      ],
      "source": [
        "# Versão da Linguagem Python\n",
        "from platform import python_version\n",
        "print('Versão da Linguagem Python Usada Neste Jupyter Notebook:', python_version())"
      ]
    },
    {
      "cell_type": "code",
      "source": [
        "# Montando drive do Google Colab\n",
        "from google.colab import drive\n",
        "drive.mount('/content/drive')"
      ],
      "metadata": {
        "id": "WdE3SLCcZAmU",
        "colab": {
          "base_uri": "https://localhost:8080/"
        },
        "outputId": "3043a0e4-2775-49a6-9f10-b0162b32fd1d"
      },
      "execution_count": 3,
      "outputs": [
        {
          "output_type": "stream",
          "name": "stdout",
          "text": [
            "Drive already mounted at /content/drive; to attempt to forcibly remount, call drive.mount(\"/content/drive\", force_remount=True).\n"
          ]
        }
      ]
    },
    {
      "cell_type": "code",
      "execution_count": 8,
      "metadata": {
        "id": "29vzWY8qY253"
      },
      "outputs": [],
      "source": [
        "# Importando os módulos\n",
        "import pandas as pd      \n",
        "import seaborn as sns\n",
        "from pandasql import sqldf\n",
        "import matplotlib as mat\n",
        "import matplotlib.pyplot as plt    \n",
        "import numpy as np                \n",
        "%matplotlib inline             "
      ]
    },
    {
      "cell_type": "code",
      "execution_count": 9,
      "metadata": {
        "id": "KjuKamGhY253"
      },
      "outputs": [],
      "source": [
        "# Manipulação de datas\n",
        "from datetime import date\n",
        "from dateutil.relativedelta import relativedelta"
      ]
    },
    {
      "cell_type": "code",
      "execution_count": 10,
      "metadata": {
        "id": "qVLSSwl1Y253"
      },
      "outputs": [],
      "source": [
        "# Machine learning\n",
        "import xgboost as xgb\n",
        "from sklearn import metrics\n",
        "from sklearn.model_selection import train_test_split, GridSearchCV\n",
        "from sklearn.neighbors import KNeighborsClassifier\n",
        "from sklearn.ensemble import RandomForestClassifier"
      ]
    },
    {
      "cell_type": "code",
      "execution_count": 11,
      "metadata": {
        "id": "Xio7QB37Y254",
        "outputId": "0e9ae362-0e5c-4fb5-8a9a-8e393649dc9a",
        "colab": {
          "base_uri": "https://localhost:8080/",
          "height": 36
        }
      },
      "outputs": [
        {
          "output_type": "execute_result",
          "data": {
            "text/plain": [
              "'1.3.5'"
            ],
            "application/vnd.google.colaboratory.intrinsic+json": {
              "type": "string"
            }
          },
          "metadata": {},
          "execution_count": 11
        }
      ],
      "source": [
        "pd.__version__"
      ]
    },
    {
      "cell_type": "code",
      "execution_count": 12,
      "metadata": {
        "id": "QAEzh-nzY254",
        "outputId": "fc4b5196-d3c2-4261-b0f9-8e4cdac3216d",
        "colab": {
          "base_uri": "https://localhost:8080/",
          "height": 36
        }
      },
      "outputs": [
        {
          "output_type": "execute_result",
          "data": {
            "text/plain": [
              "'3.5.3'"
            ],
            "application/vnd.google.colaboratory.intrinsic+json": {
              "type": "string"
            }
          },
          "metadata": {},
          "execution_count": 12
        }
      ],
      "source": [
        "mat.__version__"
      ]
    },
    {
      "cell_type": "code",
      "execution_count": 13,
      "metadata": {
        "id": "xLnU5C9WY254"
      },
      "outputs": [],
      "source": [
        "# Carregando o dataset\n",
        "df = pd.read_excel(\"/content/drive/MyDrive/Colab Notebooks/RADIOTERAPIA.xls\")   "
      ]
    },
    {
      "cell_type": "code",
      "execution_count": 17,
      "metadata": {
        "id": "_UB92boJY254",
        "outputId": "7e80621a-5cda-4518-ef0b-f71de5f4f565",
        "colab": {
          "base_uri": "https://localhost:8080/"
        }
      },
      "outputs": [
        {
          "output_type": "execute_result",
          "data": {
            "text/plain": [
              "(11012, 8)"
            ]
          },
          "metadata": {},
          "execution_count": 17
        }
      ],
      "source": [
        "# Verificando o formato dos dados\n",
        "df.shape"
      ]
    },
    {
      "cell_type": "code",
      "execution_count": 18,
      "metadata": {
        "id": "_SFusILwY254",
        "outputId": "863eec87-6eed-4287-b4cd-3027d8a1834d",
        "colab": {
          "base_uri": "https://localhost:8080/"
        }
      },
      "outputs": [
        {
          "output_type": "execute_result",
          "data": {
            "text/plain": [
              "False"
            ]
          },
          "metadata": {},
          "execution_count": 18
        }
      ],
      "source": [
        "# Verificando se existem valores nulos\n",
        "df.isnull().values.any()"
      ]
    },
    {
      "cell_type": "code",
      "execution_count": null,
      "metadata": {
        "id": "GJ4xwar6Y255"
      },
      "outputs": [],
      "source": [
        "# Limpeza dos dados caso necessário\n",
        "#df=df.dropna()\n",
        "#df=df.dropna(axis=0)\n",
        "#df=df.dropna().reset_index(drop=True)"
      ]
    },
    {
      "cell_type": "code",
      "execution_count": 19,
      "metadata": {
        "id": "TuYnReGZY255",
        "outputId": "120133cc-4ced-4219-8b39-15f7bfd0ef64",
        "colab": {
          "base_uri": "https://localhost:8080/",
          "height": 423
        }
      },
      "outputs": [
        {
          "output_type": "display_data",
          "data": {
            "text/plain": [
              "       IDRAD     DT_DIA HR_CONSULTA        NM_PACIENTE                 STATUS  \\\n",
              "0          1 2019-01-03    05:36 PM  Paciente Genérico              Concluído   \n",
              "1          2 2019-01-07    01:48 PM  Paciente Genérico              Concluído   \n",
              "2          3 2019-01-07    05:36 PM  Paciente Genérico              Concluído   \n",
              "3          4 2019-01-07    06:12 PM  Paciente Genérico              Concluído   \n",
              "4          5 2019-01-08    03:00 PM  Paciente Genérico              Concluído   \n",
              "...      ...        ...         ...                ...                    ...   \n",
              "11007  11008 2022-11-29    02:48 PM  Paciente Genérico              Concluído   \n",
              "11008  11009 2022-11-29    05:48 PM  Paciente Genérico              Concluído   \n",
              "11009  11010 2022-11-30    12:24 PM  Paciente Genérico              Concluído   \n",
              "11010  11011 2022-11-30    02:36 PM  Paciente Genérico  Concluído manualmente   \n",
              "11011  11012 2022-11-30    04:24 PM  Paciente Genérico  Concluído manualmente   \n",
              "\n",
              "       MÊS   ANO  RADIOS  \n",
              "0        1  2019       1  \n",
              "1        1  2019       1  \n",
              "2        1  2019       1  \n",
              "3        1  2019       1  \n",
              "4        1  2019       1  \n",
              "...    ...   ...     ...  \n",
              "11007   11  2022       1  \n",
              "11008   11  2022       1  \n",
              "11009   11  2022       1  \n",
              "11010   11  2022       1  \n",
              "11011   11  2022       1  \n",
              "\n",
              "[11012 rows x 8 columns]"
            ],
            "text/html": [
              "\n",
              "  <div id=\"df-eabdc737-fa3c-4300-b5b6-cdcb8f538d04\">\n",
              "    <div class=\"colab-df-container\">\n",
              "      <div>\n",
              "<style scoped>\n",
              "    .dataframe tbody tr th:only-of-type {\n",
              "        vertical-align: middle;\n",
              "    }\n",
              "\n",
              "    .dataframe tbody tr th {\n",
              "        vertical-align: top;\n",
              "    }\n",
              "\n",
              "    .dataframe thead th {\n",
              "        text-align: right;\n",
              "    }\n",
              "</style>\n",
              "<table border=\"1\" class=\"dataframe\">\n",
              "  <thead>\n",
              "    <tr style=\"text-align: right;\">\n",
              "      <th></th>\n",
              "      <th>IDRAD</th>\n",
              "      <th>DT_DIA</th>\n",
              "      <th>HR_CONSULTA</th>\n",
              "      <th>NM_PACIENTE</th>\n",
              "      <th>STATUS</th>\n",
              "      <th>MÊS</th>\n",
              "      <th>ANO</th>\n",
              "      <th>RADIOS</th>\n",
              "    </tr>\n",
              "  </thead>\n",
              "  <tbody>\n",
              "    <tr>\n",
              "      <th>0</th>\n",
              "      <td>1</td>\n",
              "      <td>2019-01-03</td>\n",
              "      <td>05:36 PM</td>\n",
              "      <td>Paciente Genérico</td>\n",
              "      <td>Concluído</td>\n",
              "      <td>1</td>\n",
              "      <td>2019</td>\n",
              "      <td>1</td>\n",
              "    </tr>\n",
              "    <tr>\n",
              "      <th>1</th>\n",
              "      <td>2</td>\n",
              "      <td>2019-01-07</td>\n",
              "      <td>01:48 PM</td>\n",
              "      <td>Paciente Genérico</td>\n",
              "      <td>Concluído</td>\n",
              "      <td>1</td>\n",
              "      <td>2019</td>\n",
              "      <td>1</td>\n",
              "    </tr>\n",
              "    <tr>\n",
              "      <th>2</th>\n",
              "      <td>3</td>\n",
              "      <td>2019-01-07</td>\n",
              "      <td>05:36 PM</td>\n",
              "      <td>Paciente Genérico</td>\n",
              "      <td>Concluído</td>\n",
              "      <td>1</td>\n",
              "      <td>2019</td>\n",
              "      <td>1</td>\n",
              "    </tr>\n",
              "    <tr>\n",
              "      <th>3</th>\n",
              "      <td>4</td>\n",
              "      <td>2019-01-07</td>\n",
              "      <td>06:12 PM</td>\n",
              "      <td>Paciente Genérico</td>\n",
              "      <td>Concluído</td>\n",
              "      <td>1</td>\n",
              "      <td>2019</td>\n",
              "      <td>1</td>\n",
              "    </tr>\n",
              "    <tr>\n",
              "      <th>4</th>\n",
              "      <td>5</td>\n",
              "      <td>2019-01-08</td>\n",
              "      <td>03:00 PM</td>\n",
              "      <td>Paciente Genérico</td>\n",
              "      <td>Concluído</td>\n",
              "      <td>1</td>\n",
              "      <td>2019</td>\n",
              "      <td>1</td>\n",
              "    </tr>\n",
              "    <tr>\n",
              "      <th>...</th>\n",
              "      <td>...</td>\n",
              "      <td>...</td>\n",
              "      <td>...</td>\n",
              "      <td>...</td>\n",
              "      <td>...</td>\n",
              "      <td>...</td>\n",
              "      <td>...</td>\n",
              "      <td>...</td>\n",
              "    </tr>\n",
              "    <tr>\n",
              "      <th>11007</th>\n",
              "      <td>11008</td>\n",
              "      <td>2022-11-29</td>\n",
              "      <td>02:48 PM</td>\n",
              "      <td>Paciente Genérico</td>\n",
              "      <td>Concluído</td>\n",
              "      <td>11</td>\n",
              "      <td>2022</td>\n",
              "      <td>1</td>\n",
              "    </tr>\n",
              "    <tr>\n",
              "      <th>11008</th>\n",
              "      <td>11009</td>\n",
              "      <td>2022-11-29</td>\n",
              "      <td>05:48 PM</td>\n",
              "      <td>Paciente Genérico</td>\n",
              "      <td>Concluído</td>\n",
              "      <td>11</td>\n",
              "      <td>2022</td>\n",
              "      <td>1</td>\n",
              "    </tr>\n",
              "    <tr>\n",
              "      <th>11009</th>\n",
              "      <td>11010</td>\n",
              "      <td>2022-11-30</td>\n",
              "      <td>12:24 PM</td>\n",
              "      <td>Paciente Genérico</td>\n",
              "      <td>Concluído</td>\n",
              "      <td>11</td>\n",
              "      <td>2022</td>\n",
              "      <td>1</td>\n",
              "    </tr>\n",
              "    <tr>\n",
              "      <th>11010</th>\n",
              "      <td>11011</td>\n",
              "      <td>2022-11-30</td>\n",
              "      <td>02:36 PM</td>\n",
              "      <td>Paciente Genérico</td>\n",
              "      <td>Concluído manualmente</td>\n",
              "      <td>11</td>\n",
              "      <td>2022</td>\n",
              "      <td>1</td>\n",
              "    </tr>\n",
              "    <tr>\n",
              "      <th>11011</th>\n",
              "      <td>11012</td>\n",
              "      <td>2022-11-30</td>\n",
              "      <td>04:24 PM</td>\n",
              "      <td>Paciente Genérico</td>\n",
              "      <td>Concluído manualmente</td>\n",
              "      <td>11</td>\n",
              "      <td>2022</td>\n",
              "      <td>1</td>\n",
              "    </tr>\n",
              "  </tbody>\n",
              "</table>\n",
              "<p>11012 rows × 8 columns</p>\n",
              "</div>\n",
              "      <button class=\"colab-df-convert\" onclick=\"convertToInteractive('df-eabdc737-fa3c-4300-b5b6-cdcb8f538d04')\"\n",
              "              title=\"Convert this dataframe to an interactive table.\"\n",
              "              style=\"display:none;\">\n",
              "        \n",
              "  <svg xmlns=\"http://www.w3.org/2000/svg\" height=\"24px\"viewBox=\"0 0 24 24\"\n",
              "       width=\"24px\">\n",
              "    <path d=\"M0 0h24v24H0V0z\" fill=\"none\"/>\n",
              "    <path d=\"M18.56 5.44l.94 2.06.94-2.06 2.06-.94-2.06-.94-.94-2.06-.94 2.06-2.06.94zm-11 1L8.5 8.5l.94-2.06 2.06-.94-2.06-.94L8.5 2.5l-.94 2.06-2.06.94zm10 10l.94 2.06.94-2.06 2.06-.94-2.06-.94-.94-2.06-.94 2.06-2.06.94z\"/><path d=\"M17.41 7.96l-1.37-1.37c-.4-.4-.92-.59-1.43-.59-.52 0-1.04.2-1.43.59L10.3 9.45l-7.72 7.72c-.78.78-.78 2.05 0 2.83L4 21.41c.39.39.9.59 1.41.59.51 0 1.02-.2 1.41-.59l7.78-7.78 2.81-2.81c.8-.78.8-2.07 0-2.86zM5.41 20L4 18.59l7.72-7.72 1.47 1.35L5.41 20z\"/>\n",
              "  </svg>\n",
              "      </button>\n",
              "      \n",
              "  <style>\n",
              "    .colab-df-container {\n",
              "      display:flex;\n",
              "      flex-wrap:wrap;\n",
              "      gap: 12px;\n",
              "    }\n",
              "\n",
              "    .colab-df-convert {\n",
              "      background-color: #E8F0FE;\n",
              "      border: none;\n",
              "      border-radius: 50%;\n",
              "      cursor: pointer;\n",
              "      display: none;\n",
              "      fill: #1967D2;\n",
              "      height: 32px;\n",
              "      padding: 0 0 0 0;\n",
              "      width: 32px;\n",
              "    }\n",
              "\n",
              "    .colab-df-convert:hover {\n",
              "      background-color: #E2EBFA;\n",
              "      box-shadow: 0px 1px 2px rgba(60, 64, 67, 0.3), 0px 1px 3px 1px rgba(60, 64, 67, 0.15);\n",
              "      fill: #174EA6;\n",
              "    }\n",
              "\n",
              "    [theme=dark] .colab-df-convert {\n",
              "      background-color: #3B4455;\n",
              "      fill: #D2E3FC;\n",
              "    }\n",
              "\n",
              "    [theme=dark] .colab-df-convert:hover {\n",
              "      background-color: #434B5C;\n",
              "      box-shadow: 0px 1px 3px 1px rgba(0, 0, 0, 0.15);\n",
              "      filter: drop-shadow(0px 1px 2px rgba(0, 0, 0, 0.3));\n",
              "      fill: #FFFFFF;\n",
              "    }\n",
              "  </style>\n",
              "\n",
              "      <script>\n",
              "        const buttonEl =\n",
              "          document.querySelector('#df-eabdc737-fa3c-4300-b5b6-cdcb8f538d04 button.colab-df-convert');\n",
              "        buttonEl.style.display =\n",
              "          google.colab.kernel.accessAllowed ? 'block' : 'none';\n",
              "\n",
              "        async function convertToInteractive(key) {\n",
              "          const element = document.querySelector('#df-eabdc737-fa3c-4300-b5b6-cdcb8f538d04');\n",
              "          const dataTable =\n",
              "            await google.colab.kernel.invokeFunction('convertToInteractive',\n",
              "                                                     [key], {});\n",
              "          if (!dataTable) return;\n",
              "\n",
              "          const docLinkHtml = 'Like what you see? Visit the ' +\n",
              "            '<a target=\"_blank\" href=https://colab.research.google.com/notebooks/data_table.ipynb>data table notebook</a>'\n",
              "            + ' to learn more about interactive tables.';\n",
              "          element.innerHTML = '';\n",
              "          dataTable['output_type'] = 'display_data';\n",
              "          await google.colab.output.renderOutput(dataTable, element);\n",
              "          const docLink = document.createElement('div');\n",
              "          docLink.innerHTML = docLinkHtml;\n",
              "          element.appendChild(docLink);\n",
              "        }\n",
              "      </script>\n",
              "    </div>\n",
              "  </div>\n",
              "  "
            ]
          },
          "metadata": {}
        }
      ],
      "source": [
        "display(df)"
      ]
    },
    {
      "cell_type": "code",
      "execution_count": 20,
      "metadata": {
        "id": "Hsr_UiKDY255",
        "outputId": "f2c3ac8d-f6ab-41c4-89d4-3e411be26041",
        "colab": {
          "base_uri": "https://localhost:8080/",
          "height": 295
        }
      },
      "outputs": [
        {
          "output_type": "stream",
          "name": "stdout",
          "text": [
            "<class 'pandas.core.frame.DataFrame'>\n",
            "RangeIndex: 11012 entries, 0 to 11011\n",
            "Data columns (total 8 columns):\n",
            " #   Column       Non-Null Count  Dtype         \n",
            "---  ------       --------------  -----         \n",
            " 0   IDRAD        11012 non-null  int64         \n",
            " 1   DT_DIA       11012 non-null  datetime64[ns]\n",
            " 2   HR_CONSULTA  11012 non-null  object        \n",
            " 3   NM_PACIENTE  11012 non-null  object        \n",
            " 4   STATUS       11012 non-null  object        \n",
            " 5   MÊS          11012 non-null  int64         \n",
            " 6   ANO          11012 non-null  int64         \n",
            " 7   RADIOS       11012 non-null  int64         \n",
            "dtypes: datetime64[ns](1), int64(4), object(3)\n",
            "memory usage: 688.4+ KB\n"
          ]
        },
        {
          "output_type": "display_data",
          "data": {
            "text/plain": [
              "None"
            ]
          },
          "metadata": {}
        }
      ],
      "source": [
        "display(df.info())\n"
      ]
    },
    {
      "cell_type": "code",
      "execution_count": 21,
      "metadata": {
        "id": "qQNAfa08Y255",
        "outputId": "612592c1-9dee-4b9c-da4c-d3ea0c2820d7",
        "colab": {
          "base_uri": "https://localhost:8080/",
          "height": 597
        }
      },
      "outputs": [
        {
          "output_type": "display_data",
          "data": {
            "text/plain": [
              "        DT_DIA  RADIO\n",
              "0   2019-01-02      4\n",
              "1   2019-01-03     10\n",
              "2   2019-01-04      7\n",
              "3   2019-01-07     11\n",
              "4   2019-01-08     12\n",
              "..         ...    ...\n",
              "966 2022-11-24      6\n",
              "967 2022-11-25      5\n",
              "968 2022-11-28     12\n",
              "969 2022-11-29     11\n",
              "970 2022-11-30      3\n",
              "\n",
              "[971 rows x 2 columns]"
            ],
            "text/html": [
              "\n",
              "  <div id=\"df-d1d10092-c77f-4aa7-b705-7ba6fbc64509\">\n",
              "    <div class=\"colab-df-container\">\n",
              "      <div>\n",
              "<style scoped>\n",
              "    .dataframe tbody tr th:only-of-type {\n",
              "        vertical-align: middle;\n",
              "    }\n",
              "\n",
              "    .dataframe tbody tr th {\n",
              "        vertical-align: top;\n",
              "    }\n",
              "\n",
              "    .dataframe thead th {\n",
              "        text-align: right;\n",
              "    }\n",
              "</style>\n",
              "<table border=\"1\" class=\"dataframe\">\n",
              "  <thead>\n",
              "    <tr style=\"text-align: right;\">\n",
              "      <th></th>\n",
              "      <th>DT_DIA</th>\n",
              "      <th>RADIO</th>\n",
              "    </tr>\n",
              "  </thead>\n",
              "  <tbody>\n",
              "    <tr>\n",
              "      <th>0</th>\n",
              "      <td>2019-01-02</td>\n",
              "      <td>4</td>\n",
              "    </tr>\n",
              "    <tr>\n",
              "      <th>1</th>\n",
              "      <td>2019-01-03</td>\n",
              "      <td>10</td>\n",
              "    </tr>\n",
              "    <tr>\n",
              "      <th>2</th>\n",
              "      <td>2019-01-04</td>\n",
              "      <td>7</td>\n",
              "    </tr>\n",
              "    <tr>\n",
              "      <th>3</th>\n",
              "      <td>2019-01-07</td>\n",
              "      <td>11</td>\n",
              "    </tr>\n",
              "    <tr>\n",
              "      <th>4</th>\n",
              "      <td>2019-01-08</td>\n",
              "      <td>12</td>\n",
              "    </tr>\n",
              "    <tr>\n",
              "      <th>...</th>\n",
              "      <td>...</td>\n",
              "      <td>...</td>\n",
              "    </tr>\n",
              "    <tr>\n",
              "      <th>966</th>\n",
              "      <td>2022-11-24</td>\n",
              "      <td>6</td>\n",
              "    </tr>\n",
              "    <tr>\n",
              "      <th>967</th>\n",
              "      <td>2022-11-25</td>\n",
              "      <td>5</td>\n",
              "    </tr>\n",
              "    <tr>\n",
              "      <th>968</th>\n",
              "      <td>2022-11-28</td>\n",
              "      <td>12</td>\n",
              "    </tr>\n",
              "    <tr>\n",
              "      <th>969</th>\n",
              "      <td>2022-11-29</td>\n",
              "      <td>11</td>\n",
              "    </tr>\n",
              "    <tr>\n",
              "      <th>970</th>\n",
              "      <td>2022-11-30</td>\n",
              "      <td>3</td>\n",
              "    </tr>\n",
              "  </tbody>\n",
              "</table>\n",
              "<p>971 rows × 2 columns</p>\n",
              "</div>\n",
              "      <button class=\"colab-df-convert\" onclick=\"convertToInteractive('df-d1d10092-c77f-4aa7-b705-7ba6fbc64509')\"\n",
              "              title=\"Convert this dataframe to an interactive table.\"\n",
              "              style=\"display:none;\">\n",
              "        \n",
              "  <svg xmlns=\"http://www.w3.org/2000/svg\" height=\"24px\"viewBox=\"0 0 24 24\"\n",
              "       width=\"24px\">\n",
              "    <path d=\"M0 0h24v24H0V0z\" fill=\"none\"/>\n",
              "    <path d=\"M18.56 5.44l.94 2.06.94-2.06 2.06-.94-2.06-.94-.94-2.06-.94 2.06-2.06.94zm-11 1L8.5 8.5l.94-2.06 2.06-.94-2.06-.94L8.5 2.5l-.94 2.06-2.06.94zm10 10l.94 2.06.94-2.06 2.06-.94-2.06-.94-.94-2.06-.94 2.06-2.06.94z\"/><path d=\"M17.41 7.96l-1.37-1.37c-.4-.4-.92-.59-1.43-.59-.52 0-1.04.2-1.43.59L10.3 9.45l-7.72 7.72c-.78.78-.78 2.05 0 2.83L4 21.41c.39.39.9.59 1.41.59.51 0 1.02-.2 1.41-.59l7.78-7.78 2.81-2.81c.8-.78.8-2.07 0-2.86zM5.41 20L4 18.59l7.72-7.72 1.47 1.35L5.41 20z\"/>\n",
              "  </svg>\n",
              "      </button>\n",
              "      \n",
              "  <style>\n",
              "    .colab-df-container {\n",
              "      display:flex;\n",
              "      flex-wrap:wrap;\n",
              "      gap: 12px;\n",
              "    }\n",
              "\n",
              "    .colab-df-convert {\n",
              "      background-color: #E8F0FE;\n",
              "      border: none;\n",
              "      border-radius: 50%;\n",
              "      cursor: pointer;\n",
              "      display: none;\n",
              "      fill: #1967D2;\n",
              "      height: 32px;\n",
              "      padding: 0 0 0 0;\n",
              "      width: 32px;\n",
              "    }\n",
              "\n",
              "    .colab-df-convert:hover {\n",
              "      background-color: #E2EBFA;\n",
              "      box-shadow: 0px 1px 2px rgba(60, 64, 67, 0.3), 0px 1px 3px 1px rgba(60, 64, 67, 0.15);\n",
              "      fill: #174EA6;\n",
              "    }\n",
              "\n",
              "    [theme=dark] .colab-df-convert {\n",
              "      background-color: #3B4455;\n",
              "      fill: #D2E3FC;\n",
              "    }\n",
              "\n",
              "    [theme=dark] .colab-df-convert:hover {\n",
              "      background-color: #434B5C;\n",
              "      box-shadow: 0px 1px 3px 1px rgba(0, 0, 0, 0.15);\n",
              "      filter: drop-shadow(0px 1px 2px rgba(0, 0, 0, 0.3));\n",
              "      fill: #FFFFFF;\n",
              "    }\n",
              "  </style>\n",
              "\n",
              "      <script>\n",
              "        const buttonEl =\n",
              "          document.querySelector('#df-d1d10092-c77f-4aa7-b705-7ba6fbc64509 button.colab-df-convert');\n",
              "        buttonEl.style.display =\n",
              "          google.colab.kernel.accessAllowed ? 'block' : 'none';\n",
              "\n",
              "        async function convertToInteractive(key) {\n",
              "          const element = document.querySelector('#df-d1d10092-c77f-4aa7-b705-7ba6fbc64509');\n",
              "          const dataTable =\n",
              "            await google.colab.kernel.invokeFunction('convertToInteractive',\n",
              "                                                     [key], {});\n",
              "          if (!dataTable) return;\n",
              "\n",
              "          const docLinkHtml = 'Like what you see? Visit the ' +\n",
              "            '<a target=\"_blank\" href=https://colab.research.google.com/notebooks/data_table.ipynb>data table notebook</a>'\n",
              "            + ' to learn more about interactive tables.';\n",
              "          element.innerHTML = '';\n",
              "          dataTable['output_type'] = 'display_data';\n",
              "          await google.colab.output.renderOutput(dataTable, element);\n",
              "          const docLink = document.createElement('div');\n",
              "          docLink.innerHTML = docLinkHtml;\n",
              "          element.appendChild(docLink);\n",
              "        }\n",
              "      </script>\n",
              "    </div>\n",
              "  </div>\n",
              "  "
            ]
          },
          "metadata": {}
        },
        {
          "output_type": "stream",
          "name": "stdout",
          "text": [
            "<class 'pandas.core.frame.DataFrame'>\n",
            "RangeIndex: 971 entries, 0 to 970\n",
            "Data columns (total 2 columns):\n",
            " #   Column  Non-Null Count  Dtype         \n",
            "---  ------  --------------  -----         \n",
            " 0   DT_DIA  971 non-null    datetime64[ns]\n",
            " 1   RADIO   971 non-null    int64         \n",
            "dtypes: datetime64[ns](1), int64(1)\n",
            "memory usage: 15.3 KB\n"
          ]
        },
        {
          "output_type": "display_data",
          "data": {
            "text/plain": [
              "None"
            ]
          },
          "metadata": {}
        }
      ],
      "source": [
        "#q = \"SELECT * FROM df LIMIT 3\"\n",
        "q = 'SELECT DT_DIA, SUM(RADIOS) as RADIO FROM df WHERE ANO > 2018 GROUP BY DT_DIA'\n",
        "df2 = sqldf(q, globals())\n",
        "df2['DT_DIA'] = pd.to_datetime(df2['DT_DIA'])\n",
        "display(df2)\n",
        "display(df2.info())"
      ]
    },
    {
      "cell_type": "code",
      "execution_count": 22,
      "metadata": {
        "id": "Pj6l7X5BY255",
        "outputId": "f01bd5b7-86c6-47aa-bf45-880747d1b41a",
        "colab": {
          "base_uri": "https://localhost:8080/"
        }
      },
      "outputs": [
        {
          "output_type": "stream",
          "name": "stdout",
          "text": [
            "DatetimeIndex(['2019-01-02', '2019-01-03', '2019-01-04', '2019-01-05',\n",
            "               '2019-01-06', '2019-01-07', '2019-01-08', '2019-01-09',\n",
            "               '2019-01-10', '2019-01-11',\n",
            "               ...\n",
            "               '2022-11-21', '2022-11-22', '2022-11-23', '2022-11-24',\n",
            "               '2022-11-25', '2022-11-26', '2022-11-27', '2022-11-28',\n",
            "               '2022-11-29', '2022-11-30'],\n",
            "              dtype='datetime64[ns]', length=1429, freq='D')\n"
          ]
        }
      ],
      "source": [
        "# Criando um novo DataFrame trazendo as conulas específicas usando o método .assign()\n",
        "#df2 = pd.DataFrame().assign(DT_DIA=df['DT_DIA'], RADIOS=df['RADIOS'])\n",
        "#print(df2)\n",
        "\n",
        "r = pd.date_range(start=df2['DT_DIA'].min(), end=df2['DT_DIA'].max())\n",
        "print(r)\n",
        "df2 = df2.set_index('DT_DIA').reindex(r).fillna(0.0).rename_axis('DT_DIA').reset_index()\n"
      ]
    },
    {
      "cell_type": "code",
      "execution_count": 23,
      "metadata": {
        "id": "rVEz1E_RY256",
        "outputId": "6f879039-eae8-4f30-cfea-e54a8dfc2355",
        "colab": {
          "base_uri": "https://localhost:8080/",
          "height": 423
        }
      },
      "outputs": [
        {
          "output_type": "display_data",
          "data": {
            "text/plain": [
              "         DT_DIA  RADIO\n",
              "0    2019-01-02    4.0\n",
              "1    2019-01-03   10.0\n",
              "2    2019-01-04    7.0\n",
              "3    2019-01-05    0.0\n",
              "4    2019-01-06    0.0\n",
              "...         ...    ...\n",
              "1424 2022-11-26    0.0\n",
              "1425 2022-11-27    0.0\n",
              "1426 2022-11-28   12.0\n",
              "1427 2022-11-29   11.0\n",
              "1428 2022-11-30    3.0\n",
              "\n",
              "[1429 rows x 2 columns]"
            ],
            "text/html": [
              "\n",
              "  <div id=\"df-dd5e1bd3-5151-4f57-9521-1d29c551e2ea\">\n",
              "    <div class=\"colab-df-container\">\n",
              "      <div>\n",
              "<style scoped>\n",
              "    .dataframe tbody tr th:only-of-type {\n",
              "        vertical-align: middle;\n",
              "    }\n",
              "\n",
              "    .dataframe tbody tr th {\n",
              "        vertical-align: top;\n",
              "    }\n",
              "\n",
              "    .dataframe thead th {\n",
              "        text-align: right;\n",
              "    }\n",
              "</style>\n",
              "<table border=\"1\" class=\"dataframe\">\n",
              "  <thead>\n",
              "    <tr style=\"text-align: right;\">\n",
              "      <th></th>\n",
              "      <th>DT_DIA</th>\n",
              "      <th>RADIO</th>\n",
              "    </tr>\n",
              "  </thead>\n",
              "  <tbody>\n",
              "    <tr>\n",
              "      <th>0</th>\n",
              "      <td>2019-01-02</td>\n",
              "      <td>4.0</td>\n",
              "    </tr>\n",
              "    <tr>\n",
              "      <th>1</th>\n",
              "      <td>2019-01-03</td>\n",
              "      <td>10.0</td>\n",
              "    </tr>\n",
              "    <tr>\n",
              "      <th>2</th>\n",
              "      <td>2019-01-04</td>\n",
              "      <td>7.0</td>\n",
              "    </tr>\n",
              "    <tr>\n",
              "      <th>3</th>\n",
              "      <td>2019-01-05</td>\n",
              "      <td>0.0</td>\n",
              "    </tr>\n",
              "    <tr>\n",
              "      <th>4</th>\n",
              "      <td>2019-01-06</td>\n",
              "      <td>0.0</td>\n",
              "    </tr>\n",
              "    <tr>\n",
              "      <th>...</th>\n",
              "      <td>...</td>\n",
              "      <td>...</td>\n",
              "    </tr>\n",
              "    <tr>\n",
              "      <th>1424</th>\n",
              "      <td>2022-11-26</td>\n",
              "      <td>0.0</td>\n",
              "    </tr>\n",
              "    <tr>\n",
              "      <th>1425</th>\n",
              "      <td>2022-11-27</td>\n",
              "      <td>0.0</td>\n",
              "    </tr>\n",
              "    <tr>\n",
              "      <th>1426</th>\n",
              "      <td>2022-11-28</td>\n",
              "      <td>12.0</td>\n",
              "    </tr>\n",
              "    <tr>\n",
              "      <th>1427</th>\n",
              "      <td>2022-11-29</td>\n",
              "      <td>11.0</td>\n",
              "    </tr>\n",
              "    <tr>\n",
              "      <th>1428</th>\n",
              "      <td>2022-11-30</td>\n",
              "      <td>3.0</td>\n",
              "    </tr>\n",
              "  </tbody>\n",
              "</table>\n",
              "<p>1429 rows × 2 columns</p>\n",
              "</div>\n",
              "      <button class=\"colab-df-convert\" onclick=\"convertToInteractive('df-dd5e1bd3-5151-4f57-9521-1d29c551e2ea')\"\n",
              "              title=\"Convert this dataframe to an interactive table.\"\n",
              "              style=\"display:none;\">\n",
              "        \n",
              "  <svg xmlns=\"http://www.w3.org/2000/svg\" height=\"24px\"viewBox=\"0 0 24 24\"\n",
              "       width=\"24px\">\n",
              "    <path d=\"M0 0h24v24H0V0z\" fill=\"none\"/>\n",
              "    <path d=\"M18.56 5.44l.94 2.06.94-2.06 2.06-.94-2.06-.94-.94-2.06-.94 2.06-2.06.94zm-11 1L8.5 8.5l.94-2.06 2.06-.94-2.06-.94L8.5 2.5l-.94 2.06-2.06.94zm10 10l.94 2.06.94-2.06 2.06-.94-2.06-.94-.94-2.06-.94 2.06-2.06.94z\"/><path d=\"M17.41 7.96l-1.37-1.37c-.4-.4-.92-.59-1.43-.59-.52 0-1.04.2-1.43.59L10.3 9.45l-7.72 7.72c-.78.78-.78 2.05 0 2.83L4 21.41c.39.39.9.59 1.41.59.51 0 1.02-.2 1.41-.59l7.78-7.78 2.81-2.81c.8-.78.8-2.07 0-2.86zM5.41 20L4 18.59l7.72-7.72 1.47 1.35L5.41 20z\"/>\n",
              "  </svg>\n",
              "      </button>\n",
              "      \n",
              "  <style>\n",
              "    .colab-df-container {\n",
              "      display:flex;\n",
              "      flex-wrap:wrap;\n",
              "      gap: 12px;\n",
              "    }\n",
              "\n",
              "    .colab-df-convert {\n",
              "      background-color: #E8F0FE;\n",
              "      border: none;\n",
              "      border-radius: 50%;\n",
              "      cursor: pointer;\n",
              "      display: none;\n",
              "      fill: #1967D2;\n",
              "      height: 32px;\n",
              "      padding: 0 0 0 0;\n",
              "      width: 32px;\n",
              "    }\n",
              "\n",
              "    .colab-df-convert:hover {\n",
              "      background-color: #E2EBFA;\n",
              "      box-shadow: 0px 1px 2px rgba(60, 64, 67, 0.3), 0px 1px 3px 1px rgba(60, 64, 67, 0.15);\n",
              "      fill: #174EA6;\n",
              "    }\n",
              "\n",
              "    [theme=dark] .colab-df-convert {\n",
              "      background-color: #3B4455;\n",
              "      fill: #D2E3FC;\n",
              "    }\n",
              "\n",
              "    [theme=dark] .colab-df-convert:hover {\n",
              "      background-color: #434B5C;\n",
              "      box-shadow: 0px 1px 3px 1px rgba(0, 0, 0, 0.15);\n",
              "      filter: drop-shadow(0px 1px 2px rgba(0, 0, 0, 0.3));\n",
              "      fill: #FFFFFF;\n",
              "    }\n",
              "  </style>\n",
              "\n",
              "      <script>\n",
              "        const buttonEl =\n",
              "          document.querySelector('#df-dd5e1bd3-5151-4f57-9521-1d29c551e2ea button.colab-df-convert');\n",
              "        buttonEl.style.display =\n",
              "          google.colab.kernel.accessAllowed ? 'block' : 'none';\n",
              "\n",
              "        async function convertToInteractive(key) {\n",
              "          const element = document.querySelector('#df-dd5e1bd3-5151-4f57-9521-1d29c551e2ea');\n",
              "          const dataTable =\n",
              "            await google.colab.kernel.invokeFunction('convertToInteractive',\n",
              "                                                     [key], {});\n",
              "          if (!dataTable) return;\n",
              "\n",
              "          const docLinkHtml = 'Like what you see? Visit the ' +\n",
              "            '<a target=\"_blank\" href=https://colab.research.google.com/notebooks/data_table.ipynb>data table notebook</a>'\n",
              "            + ' to learn more about interactive tables.';\n",
              "          element.innerHTML = '';\n",
              "          dataTable['output_type'] = 'display_data';\n",
              "          await google.colab.output.renderOutput(dataTable, element);\n",
              "          const docLink = document.createElement('div');\n",
              "          docLink.innerHTML = docLinkHtml;\n",
              "          element.appendChild(docLink);\n",
              "        }\n",
              "      </script>\n",
              "    </div>\n",
              "  </div>\n",
              "  "
            ]
          },
          "metadata": {}
        }
      ],
      "source": [
        "display(df2)"
      ]
    },
    {
      "cell_type": "code",
      "execution_count": 24,
      "metadata": {
        "id": "eyv3WeQZY256",
        "outputId": "74e6f8ca-a8f0-48f5-e92b-ab53a0711216",
        "colab": {
          "base_uri": "https://localhost:8080/",
          "height": 455
        }
      },
      "outputs": [
        {
          "output_type": "display_data",
          "data": {
            "text/plain": [
              "            RADIO  Mes  Dia  dia_util  dia_semana  semana_do_mes  \\\n",
              "DT_DIA                                                             \n",
              "2019-01-02      4    1    2         1           2              1   \n",
              "2019-01-03     10    1    3         2           3              1   \n",
              "2019-01-04      7    1    4         3           4              1   \n",
              "2019-01-05      0    1    5         4           5              1   \n",
              "2019-01-06      0    1    6         4           6              1   \n",
              "...           ...  ...  ...       ...         ...            ...   \n",
              "2022-11-26      0   11   26        19           5              4   \n",
              "2022-11-27      0   11   27        19           6              4   \n",
              "2022-11-28     12   11   28        19           0              5   \n",
              "2022-11-29     11   11   29        20           1              5   \n",
              "2022-11-30      3   11   30        21           2              5   \n",
              "\n",
              "            dia_semana_ordem  \n",
              "DT_DIA                        \n",
              "2019-01-02                 1  \n",
              "2019-01-03                 1  \n",
              "2019-01-04                 1  \n",
              "2019-01-05                 1  \n",
              "2019-01-06                 1  \n",
              "...                      ...  \n",
              "2022-11-26                 4  \n",
              "2022-11-27                 4  \n",
              "2022-11-28                 4  \n",
              "2022-11-29                 5  \n",
              "2022-11-30                 5  \n",
              "\n",
              "[1429 rows x 7 columns]"
            ],
            "text/html": [
              "\n",
              "  <div id=\"df-7a663bc3-8297-4121-a738-1d77bf2e1eab\">\n",
              "    <div class=\"colab-df-container\">\n",
              "      <div>\n",
              "<style scoped>\n",
              "    .dataframe tbody tr th:only-of-type {\n",
              "        vertical-align: middle;\n",
              "    }\n",
              "\n",
              "    .dataframe tbody tr th {\n",
              "        vertical-align: top;\n",
              "    }\n",
              "\n",
              "    .dataframe thead th {\n",
              "        text-align: right;\n",
              "    }\n",
              "</style>\n",
              "<table border=\"1\" class=\"dataframe\">\n",
              "  <thead>\n",
              "    <tr style=\"text-align: right;\">\n",
              "      <th></th>\n",
              "      <th>RADIO</th>\n",
              "      <th>Mes</th>\n",
              "      <th>Dia</th>\n",
              "      <th>dia_util</th>\n",
              "      <th>dia_semana</th>\n",
              "      <th>semana_do_mes</th>\n",
              "      <th>dia_semana_ordem</th>\n",
              "    </tr>\n",
              "    <tr>\n",
              "      <th>DT_DIA</th>\n",
              "      <th></th>\n",
              "      <th></th>\n",
              "      <th></th>\n",
              "      <th></th>\n",
              "      <th></th>\n",
              "      <th></th>\n",
              "      <th></th>\n",
              "    </tr>\n",
              "  </thead>\n",
              "  <tbody>\n",
              "    <tr>\n",
              "      <th>2019-01-02</th>\n",
              "      <td>4</td>\n",
              "      <td>1</td>\n",
              "      <td>2</td>\n",
              "      <td>1</td>\n",
              "      <td>2</td>\n",
              "      <td>1</td>\n",
              "      <td>1</td>\n",
              "    </tr>\n",
              "    <tr>\n",
              "      <th>2019-01-03</th>\n",
              "      <td>10</td>\n",
              "      <td>1</td>\n",
              "      <td>3</td>\n",
              "      <td>2</td>\n",
              "      <td>3</td>\n",
              "      <td>1</td>\n",
              "      <td>1</td>\n",
              "    </tr>\n",
              "    <tr>\n",
              "      <th>2019-01-04</th>\n",
              "      <td>7</td>\n",
              "      <td>1</td>\n",
              "      <td>4</td>\n",
              "      <td>3</td>\n",
              "      <td>4</td>\n",
              "      <td>1</td>\n",
              "      <td>1</td>\n",
              "    </tr>\n",
              "    <tr>\n",
              "      <th>2019-01-05</th>\n",
              "      <td>0</td>\n",
              "      <td>1</td>\n",
              "      <td>5</td>\n",
              "      <td>4</td>\n",
              "      <td>5</td>\n",
              "      <td>1</td>\n",
              "      <td>1</td>\n",
              "    </tr>\n",
              "    <tr>\n",
              "      <th>2019-01-06</th>\n",
              "      <td>0</td>\n",
              "      <td>1</td>\n",
              "      <td>6</td>\n",
              "      <td>4</td>\n",
              "      <td>6</td>\n",
              "      <td>1</td>\n",
              "      <td>1</td>\n",
              "    </tr>\n",
              "    <tr>\n",
              "      <th>...</th>\n",
              "      <td>...</td>\n",
              "      <td>...</td>\n",
              "      <td>...</td>\n",
              "      <td>...</td>\n",
              "      <td>...</td>\n",
              "      <td>...</td>\n",
              "      <td>...</td>\n",
              "    </tr>\n",
              "    <tr>\n",
              "      <th>2022-11-26</th>\n",
              "      <td>0</td>\n",
              "      <td>11</td>\n",
              "      <td>26</td>\n",
              "      <td>19</td>\n",
              "      <td>5</td>\n",
              "      <td>4</td>\n",
              "      <td>4</td>\n",
              "    </tr>\n",
              "    <tr>\n",
              "      <th>2022-11-27</th>\n",
              "      <td>0</td>\n",
              "      <td>11</td>\n",
              "      <td>27</td>\n",
              "      <td>19</td>\n",
              "      <td>6</td>\n",
              "      <td>4</td>\n",
              "      <td>4</td>\n",
              "    </tr>\n",
              "    <tr>\n",
              "      <th>2022-11-28</th>\n",
              "      <td>12</td>\n",
              "      <td>11</td>\n",
              "      <td>28</td>\n",
              "      <td>19</td>\n",
              "      <td>0</td>\n",
              "      <td>5</td>\n",
              "      <td>4</td>\n",
              "    </tr>\n",
              "    <tr>\n",
              "      <th>2022-11-29</th>\n",
              "      <td>11</td>\n",
              "      <td>11</td>\n",
              "      <td>29</td>\n",
              "      <td>20</td>\n",
              "      <td>1</td>\n",
              "      <td>5</td>\n",
              "      <td>5</td>\n",
              "    </tr>\n",
              "    <tr>\n",
              "      <th>2022-11-30</th>\n",
              "      <td>3</td>\n",
              "      <td>11</td>\n",
              "      <td>30</td>\n",
              "      <td>21</td>\n",
              "      <td>2</td>\n",
              "      <td>5</td>\n",
              "      <td>5</td>\n",
              "    </tr>\n",
              "  </tbody>\n",
              "</table>\n",
              "<p>1429 rows × 7 columns</p>\n",
              "</div>\n",
              "      <button class=\"colab-df-convert\" onclick=\"convertToInteractive('df-7a663bc3-8297-4121-a738-1d77bf2e1eab')\"\n",
              "              title=\"Convert this dataframe to an interactive table.\"\n",
              "              style=\"display:none;\">\n",
              "        \n",
              "  <svg xmlns=\"http://www.w3.org/2000/svg\" height=\"24px\"viewBox=\"0 0 24 24\"\n",
              "       width=\"24px\">\n",
              "    <path d=\"M0 0h24v24H0V0z\" fill=\"none\"/>\n",
              "    <path d=\"M18.56 5.44l.94 2.06.94-2.06 2.06-.94-2.06-.94-.94-2.06-.94 2.06-2.06.94zm-11 1L8.5 8.5l.94-2.06 2.06-.94-2.06-.94L8.5 2.5l-.94 2.06-2.06.94zm10 10l.94 2.06.94-2.06 2.06-.94-2.06-.94-.94-2.06-.94 2.06-2.06.94z\"/><path d=\"M17.41 7.96l-1.37-1.37c-.4-.4-.92-.59-1.43-.59-.52 0-1.04.2-1.43.59L10.3 9.45l-7.72 7.72c-.78.78-.78 2.05 0 2.83L4 21.41c.39.39.9.59 1.41.59.51 0 1.02-.2 1.41-.59l7.78-7.78 2.81-2.81c.8-.78.8-2.07 0-2.86zM5.41 20L4 18.59l7.72-7.72 1.47 1.35L5.41 20z\"/>\n",
              "  </svg>\n",
              "      </button>\n",
              "      \n",
              "  <style>\n",
              "    .colab-df-container {\n",
              "      display:flex;\n",
              "      flex-wrap:wrap;\n",
              "      gap: 12px;\n",
              "    }\n",
              "\n",
              "    .colab-df-convert {\n",
              "      background-color: #E8F0FE;\n",
              "      border: none;\n",
              "      border-radius: 50%;\n",
              "      cursor: pointer;\n",
              "      display: none;\n",
              "      fill: #1967D2;\n",
              "      height: 32px;\n",
              "      padding: 0 0 0 0;\n",
              "      width: 32px;\n",
              "    }\n",
              "\n",
              "    .colab-df-convert:hover {\n",
              "      background-color: #E2EBFA;\n",
              "      box-shadow: 0px 1px 2px rgba(60, 64, 67, 0.3), 0px 1px 3px 1px rgba(60, 64, 67, 0.15);\n",
              "      fill: #174EA6;\n",
              "    }\n",
              "\n",
              "    [theme=dark] .colab-df-convert {\n",
              "      background-color: #3B4455;\n",
              "      fill: #D2E3FC;\n",
              "    }\n",
              "\n",
              "    [theme=dark] .colab-df-convert:hover {\n",
              "      background-color: #434B5C;\n",
              "      box-shadow: 0px 1px 3px 1px rgba(0, 0, 0, 0.15);\n",
              "      filter: drop-shadow(0px 1px 2px rgba(0, 0, 0, 0.3));\n",
              "      fill: #FFFFFF;\n",
              "    }\n",
              "  </style>\n",
              "\n",
              "      <script>\n",
              "        const buttonEl =\n",
              "          document.querySelector('#df-7a663bc3-8297-4121-a738-1d77bf2e1eab button.colab-df-convert');\n",
              "        buttonEl.style.display =\n",
              "          google.colab.kernel.accessAllowed ? 'block' : 'none';\n",
              "\n",
              "        async function convertToInteractive(key) {\n",
              "          const element = document.querySelector('#df-7a663bc3-8297-4121-a738-1d77bf2e1eab');\n",
              "          const dataTable =\n",
              "            await google.colab.kernel.invokeFunction('convertToInteractive',\n",
              "                                                     [key], {});\n",
              "          if (!dataTable) return;\n",
              "\n",
              "          const docLinkHtml = 'Like what you see? Visit the ' +\n",
              "            '<a target=\"_blank\" href=https://colab.research.google.com/notebooks/data_table.ipynb>data table notebook</a>'\n",
              "            + ' to learn more about interactive tables.';\n",
              "          element.innerHTML = '';\n",
              "          dataTable['output_type'] = 'display_data';\n",
              "          await google.colab.output.renderOutput(dataTable, element);\n",
              "          const docLink = document.createElement('div');\n",
              "          docLink.innerHTML = docLinkHtml;\n",
              "          element.appendChild(docLink);\n",
              "        }\n",
              "      </script>\n",
              "    </div>\n",
              "  </div>\n",
              "  "
            ]
          },
          "metadata": {}
        }
      ],
      "source": [
        "# Criando os dias da semana, com ordem e final de semana\n",
        "df2['Mes'] = df2['DT_DIA'].dt.month\n",
        "df2['Dia'] = df2['DT_DIA'].dt.day\n",
        "df2['dia_util'] = np.busday_count(\n",
        "                    df2['DT_DIA'].values.astype('datetime64[M]'),\n",
        "                    df2['DT_DIA'].values.astype('datetime64[D]'))\n",
        "df2['dia_semana'] = df2['DT_DIA'].dt.weekday\n",
        "df2['semana_do_mes'] = (df2['DT_DIA'].dt.day \n",
        "                         - df2['DT_DIA'].dt.weekday - 2) // 7 + 2\n",
        "df2['dia_semana_ordem'] = (df2['DT_DIA'].dt.day + 6) // 7\n",
        "df2 = df2.set_index('DT_DIA')\n",
        "df2['RADIO'] = df2['RADIO'].astype(int)\n",
        "\n",
        "display(df2)"
      ]
    },
    {
      "cell_type": "code",
      "execution_count": 25,
      "metadata": {
        "id": "fh9gct8cY256"
      },
      "outputs": [],
      "source": [
        "# Dividindo os dados entre treino e teste\n",
        "x_train, x_test, y_train, y_test = train_test_split(df2.drop(['RADIO'], axis=1), df2['RADIO'],\n",
        "                 test_size=0.3, random_state=1, shuffle=False)"
      ]
    },
    {
      "cell_type": "code",
      "execution_count": 26,
      "metadata": {
        "id": "bb3LTHhUY257"
      },
      "outputs": [],
      "source": [
        "# Transformando y values para o fit no xgboox\n",
        "from sklearn.preprocessing import LabelEncoder\n",
        "le = LabelEncoder()\n",
        "y_train = le.fit_transform(y_train)"
      ]
    },
    {
      "cell_type": "code",
      "execution_count": null,
      "metadata": {
        "id": "wPvyF3SYY257"
      },
      "outputs": [],
      "source": [
        "# Parâmetros de aprendizado\n",
        "DM_train = xgb.DMatrix(data=x_train, label=y_train)\n",
        "grid_param = {\"learning_rate\": [0.01, 0.1],\n",
        "              \"n_estimators\": [100, 150, 200],\n",
        "              \"alpha\": [0.1, 0.5, 1],\n",
        "              \"max_depth\": [2, 3, 4]}\n",
        "model = xgb.XGBRegressor()\n",
        "grid_mse = GridSearchCV(estimator=model, param_grid=grid_param,\n",
        "                       scoring=\"neg_mean_squared_error\",\n",
        "                       cv=4, verbose=1)\n",
        "grid_mse.fit(x_train, y_train)\n",
        "print(\"Best parameters found: \", grid_mse.best_params_)\n",
        "print(\"Lowest RMSE found: \", np.sqrt(np.abs(grid_mse.best_score_)))"
      ]
    },
    {
      "cell_type": "code",
      "execution_count": 28,
      "metadata": {
        "id": "FZ6IFWvwY257"
      },
      "outputs": [],
      "source": [
        "# Algorítmo XGBoost\n",
        "xgb_model = xgb.XGBClassifier(objective ='reg:squarederror', \n",
        "                            colsample_bytree = 1, \n",
        "                            learning_rate = 0.1,\n",
        "                            max_depth = 2, \n",
        "                            alpha = 0.1, \n",
        "                            n_estimators = 100)\n",
        "xgb_model.fit(x_train, y_train)\n",
        "xgb_prediction = xgb_model.predict(x_test)"
      ]
    },
    {
      "cell_type": "code",
      "execution_count": 29,
      "metadata": {
        "id": "cJliRQdNY258"
      },
      "outputs": [],
      "source": [
        "# Algorítmo KNN\n",
        "knn = KNeighborsClassifier(n_neighbors = 3, algorithm = 'auto',     \n",
        "                           weights = 'distance') \n",
        "knn.fit(x_train, y_train)  \n",
        "knn_prediction = knn.predict(x_test)"
      ]
    },
    {
      "cell_type": "code",
      "execution_count": 30,
      "metadata": {
        "id": "_nwi9xh0Y258"
      },
      "outputs": [],
      "source": [
        "# Algorítmo Random Forest\n",
        "random_forest = RandomForestClassifier(n_estimators=50,\n",
        "                                       max_depth=10, random_state=1)\n",
        "random_forest.fit(x_train, y_train)\n",
        "rf_prediction = random_forest.predict(x_test)"
      ]
    },
    {
      "cell_type": "code",
      "execution_count": 31,
      "metadata": {
        "id": "F_EYdASfY259",
        "outputId": "734bb631-ade5-44f8-e687-6023ecb292b1",
        "colab": {
          "base_uri": "https://localhost:8080/"
        }
      },
      "outputs": [
        {
          "output_type": "stream",
          "name": "stdout",
          "text": [
            "\n",
            "Confusion matrix for XGBoost model:\n",
            "TN:123    FN:0\n",
            "FP:0    TP:0\n",
            "\n",
            "Confusion matrix for KNN model:\n",
            "TN:115    FN:0\n",
            "FP:1    TP:1\n",
            "\n",
            "Confusion matrix for Random Forest model:\n",
            "TN:123    FN:0\n",
            "FP:0    TP:0\n"
          ]
        }
      ],
      "source": [
        "# Métricas dos modelos\n",
        "xgb_matrix = metrics.confusion_matrix(xgb_prediction, y_test)\n",
        "print(f\"\"\"\n",
        "Confusion matrix for XGBoost model:\n",
        "TN:{xgb_matrix[0][0]}    FN:{xgb_matrix[0][1]}\n",
        "FP:{xgb_matrix[1][0]}    TP:{xgb_matrix[1][1]}\"\"\")\n",
        "knn_matrix = metrics.confusion_matrix(knn_prediction, y_test)\n",
        "print(f\"\"\"\n",
        "Confusion matrix for KNN model:\n",
        "TN:{knn_matrix[0][0]}    FN:{knn_matrix[0][1]}\n",
        "FP:{knn_matrix[1][0]}    TP:{knn_matrix[1][1]}\"\"\")\n",
        "rf_matrix = metrics.confusion_matrix(rf_prediction, y_test)\n",
        "print(f\"\"\"\n",
        "Confusion matrix for Random Forest model:\n",
        "TN:{rf_matrix[0][0]}    FN:{rf_matrix[0][1]}\n",
        "FP:{rf_matrix[1][0]}    TP:{rf_matrix[1][1]}\"\"\")"
      ]
    },
    {
      "cell_type": "code",
      "execution_count": 40,
      "metadata": {
        "id": "MAUUO3fsY259"
      },
      "outputs": [],
      "source": [
        "# Montando o predict com os dados de dia\n",
        "x_predict = pd.DataFrame(pd.date_range(date.today(), (date.today() +\n",
        "            relativedelta(years=1)),freq='d'), columns=['Date'])\n",
        "x_predict['Mes'] = x_predict['Date'].dt.month\n",
        "x_predict['Dia'] = x_predict['Date'].dt.day\n",
        "x_predict['dia_util'] = np.busday_count(\n",
        "                x_predict['Date'].values.astype('datetime64[M]'),\n",
        "                x_predict['Date'].values.astype('datetime64[D]'))\n",
        "x_predict['dia_semana'] = x_predict['Date'].dt.weekday\n",
        "x_predict['semana_do_mes'] = (x_predict['Date'].dt.day - \n",
        "                              x_predict['Date'].dt.weekday - 2)//7+2\n",
        "x_predict['dia_semana_ordem'] = (x_predict['Date'].dt.day + 6) // 7\n",
        "\n",
        "x_predict = x_predict.set_index('Date')\n",
        "\n",
        "#display(x_predict)\n",
        "prediction = xgb_model.predict(x_predict)"
      ]
    },
    {
      "cell_type": "code",
      "execution_count": 41,
      "metadata": {
        "id": "KVNKCZfAY259",
        "colab": {
          "base_uri": "https://localhost:8080/"
        },
        "outputId": "ccfddcb3-371a-4180-bcd9-ddff61ea2d35"
      },
      "outputs": [
        {
          "output_type": "stream",
          "name": "stdout",
          "text": [
            "            Mes  Dia  dia_util  dia_semana  semana_do_mes  dia_semana_ordem\n",
            "Date                                                                       \n",
            "2023-02-28    2   28        19           1              5                 4\n",
            "2023-03-01    3    1         0           2              1                 1\n",
            "2023-03-02    3    2         1           3              1                 1\n",
            "2023-03-03    3    3         2           4              1                 1\n",
            "2023-03-04    3    4         3           5              1                 1\n",
            "...         ...  ...       ...         ...            ...               ...\n",
            "2024-02-24    2   24        17           5              4                 4\n",
            "2024-02-25    2   25        17           6              4                 4\n",
            "2024-02-26    2   26        17           0              5                 4\n",
            "2024-02-27    2   27        18           1              5                 4\n",
            "2024-02-28    2   28        19           2              5                 4\n",
            "\n",
            "[366 rows x 6 columns]\n",
            "(366, 6)\n",
            "[ 8  4  7  4  0  0 17 11  7  6  6  0  0 12 12  9  9  4  0  0 11 11  4  9\n",
            "  4  0  0 16  8  8  6  2  0  0 12  7 10  7  4  0  0  7  7  9  9  4  0  0\n",
            " 12  9  7 11  4  0  0 11  9  9  9  8  0  0 18  7  7  7  4  0  0 11 11  6\n",
            "  6  6  0  0 12  9  9  9  4  0  0 11  9  9  9  7  0  0 19 10  6  4  5  0\n",
            "  0  7 11  7  8  6  0  0 12  8  8  9  4  0  0 12 11  8  8  4  0  0 11  8\n",
            "  8 10 10  0  0 12  7 10  8  5  0  0  7  7  8  8  4  0  0 12  9  7  8  4\n",
            "  0  0 11  9  9  9  6  0  0  0  4  7  6  3  0  0 11 11  6  6  6  0  0 12\n",
            "  8  9  9  4  0  0 11  7  9  9  5  0  0 11 10 10  9  4  0  0 17 10  7  5\n",
            "  5  0  0  7  8  6  6  4  0  0 11  7  6  6  4  0  0 11 11  6  6  5  0  0\n",
            "  0  7  7 10  5  0  0 11  7  6  8  5  0  0 11  9  9  6  4  0  0 15  0  6\n",
            "  6  5  0  0 14  0  4  6  4  0  0 17  7  7  6  6  0  0 12  8  6  9  6  0\n",
            "  0 11  7  7  6  5  0  0 17  0 10 10  4  0  0 17  4  7  5  5  0  0  7  9\n",
            "  6  6  3  0  0  7  7  0  0  5  0  0  0  0  0  0  5  0  0 18  7  7  7  4\n",
            "  0  0 11 11  8  8  5  0  0 12  8  8  8  4  0  0 11  8  8  9  7  0  0 19\n",
            "  6  6  4  5  0  0 12 11  7  7  5  0  0 12 11 12 12  4  0  0 12 11 13 13\n",
            "  4  0  0 16  8 14]\n",
            "(366,)\n"
          ]
        }
      ],
      "source": [
        "# Visualizando as previsões\n",
        "print(x_predict)\n",
        "print(x_predict.shape)\n",
        "print(prediction)\n",
        "print(prediction.shape)"
      ]
    },
    {
      "cell_type": "code",
      "execution_count": 34,
      "metadata": {
        "id": "wdoDbC58Y25-"
      },
      "outputs": [],
      "source": [
        "df3 = pd.DataFrame(pd.date_range(date.today(), (date.today() +\n",
        "            relativedelta(years=1)),freq='d'), columns=['Date'])\n",
        "df3 = df3.assign(Mes =df3['Date'].dt.month, Dia=df3['Date'].dt.day, Previsto =prediction)"
      ]
    },
    {
      "cell_type": "code",
      "execution_count": 35,
      "metadata": {
        "id": "lx-a1j88Y25-",
        "colab": {
          "base_uri": "https://localhost:8080/",
          "height": 423
        },
        "outputId": "78b938b9-a497-4418-fedc-d4c4a335858b"
      },
      "outputs": [
        {
          "output_type": "display_data",
          "data": {
            "text/plain": [
              "          Date  Mes  Dia  Previsto\n",
              "0   2023-02-28    2   28         8\n",
              "1   2023-03-01    3    1         4\n",
              "2   2023-03-02    3    2         7\n",
              "3   2023-03-03    3    3         4\n",
              "4   2023-03-04    3    4         0\n",
              "..         ...  ...  ...       ...\n",
              "361 2024-02-24    2   24         0\n",
              "362 2024-02-25    2   25         0\n",
              "363 2024-02-26    2   26        16\n",
              "364 2024-02-27    2   27         8\n",
              "365 2024-02-28    2   28        14\n",
              "\n",
              "[366 rows x 4 columns]"
            ],
            "text/html": [
              "\n",
              "  <div id=\"df-84fbc6df-e1cd-41d8-ac87-3d53fa130971\">\n",
              "    <div class=\"colab-df-container\">\n",
              "      <div>\n",
              "<style scoped>\n",
              "    .dataframe tbody tr th:only-of-type {\n",
              "        vertical-align: middle;\n",
              "    }\n",
              "\n",
              "    .dataframe tbody tr th {\n",
              "        vertical-align: top;\n",
              "    }\n",
              "\n",
              "    .dataframe thead th {\n",
              "        text-align: right;\n",
              "    }\n",
              "</style>\n",
              "<table border=\"1\" class=\"dataframe\">\n",
              "  <thead>\n",
              "    <tr style=\"text-align: right;\">\n",
              "      <th></th>\n",
              "      <th>Date</th>\n",
              "      <th>Mes</th>\n",
              "      <th>Dia</th>\n",
              "      <th>Previsto</th>\n",
              "    </tr>\n",
              "  </thead>\n",
              "  <tbody>\n",
              "    <tr>\n",
              "      <th>0</th>\n",
              "      <td>2023-02-28</td>\n",
              "      <td>2</td>\n",
              "      <td>28</td>\n",
              "      <td>8</td>\n",
              "    </tr>\n",
              "    <tr>\n",
              "      <th>1</th>\n",
              "      <td>2023-03-01</td>\n",
              "      <td>3</td>\n",
              "      <td>1</td>\n",
              "      <td>4</td>\n",
              "    </tr>\n",
              "    <tr>\n",
              "      <th>2</th>\n",
              "      <td>2023-03-02</td>\n",
              "      <td>3</td>\n",
              "      <td>2</td>\n",
              "      <td>7</td>\n",
              "    </tr>\n",
              "    <tr>\n",
              "      <th>3</th>\n",
              "      <td>2023-03-03</td>\n",
              "      <td>3</td>\n",
              "      <td>3</td>\n",
              "      <td>4</td>\n",
              "    </tr>\n",
              "    <tr>\n",
              "      <th>4</th>\n",
              "      <td>2023-03-04</td>\n",
              "      <td>3</td>\n",
              "      <td>4</td>\n",
              "      <td>0</td>\n",
              "    </tr>\n",
              "    <tr>\n",
              "      <th>...</th>\n",
              "      <td>...</td>\n",
              "      <td>...</td>\n",
              "      <td>...</td>\n",
              "      <td>...</td>\n",
              "    </tr>\n",
              "    <tr>\n",
              "      <th>361</th>\n",
              "      <td>2024-02-24</td>\n",
              "      <td>2</td>\n",
              "      <td>24</td>\n",
              "      <td>0</td>\n",
              "    </tr>\n",
              "    <tr>\n",
              "      <th>362</th>\n",
              "      <td>2024-02-25</td>\n",
              "      <td>2</td>\n",
              "      <td>25</td>\n",
              "      <td>0</td>\n",
              "    </tr>\n",
              "    <tr>\n",
              "      <th>363</th>\n",
              "      <td>2024-02-26</td>\n",
              "      <td>2</td>\n",
              "      <td>26</td>\n",
              "      <td>16</td>\n",
              "    </tr>\n",
              "    <tr>\n",
              "      <th>364</th>\n",
              "      <td>2024-02-27</td>\n",
              "      <td>2</td>\n",
              "      <td>27</td>\n",
              "      <td>8</td>\n",
              "    </tr>\n",
              "    <tr>\n",
              "      <th>365</th>\n",
              "      <td>2024-02-28</td>\n",
              "      <td>2</td>\n",
              "      <td>28</td>\n",
              "      <td>14</td>\n",
              "    </tr>\n",
              "  </tbody>\n",
              "</table>\n",
              "<p>366 rows × 4 columns</p>\n",
              "</div>\n",
              "      <button class=\"colab-df-convert\" onclick=\"convertToInteractive('df-84fbc6df-e1cd-41d8-ac87-3d53fa130971')\"\n",
              "              title=\"Convert this dataframe to an interactive table.\"\n",
              "              style=\"display:none;\">\n",
              "        \n",
              "  <svg xmlns=\"http://www.w3.org/2000/svg\" height=\"24px\"viewBox=\"0 0 24 24\"\n",
              "       width=\"24px\">\n",
              "    <path d=\"M0 0h24v24H0V0z\" fill=\"none\"/>\n",
              "    <path d=\"M18.56 5.44l.94 2.06.94-2.06 2.06-.94-2.06-.94-.94-2.06-.94 2.06-2.06.94zm-11 1L8.5 8.5l.94-2.06 2.06-.94-2.06-.94L8.5 2.5l-.94 2.06-2.06.94zm10 10l.94 2.06.94-2.06 2.06-.94-2.06-.94-.94-2.06-.94 2.06-2.06.94z\"/><path d=\"M17.41 7.96l-1.37-1.37c-.4-.4-.92-.59-1.43-.59-.52 0-1.04.2-1.43.59L10.3 9.45l-7.72 7.72c-.78.78-.78 2.05 0 2.83L4 21.41c.39.39.9.59 1.41.59.51 0 1.02-.2 1.41-.59l7.78-7.78 2.81-2.81c.8-.78.8-2.07 0-2.86zM5.41 20L4 18.59l7.72-7.72 1.47 1.35L5.41 20z\"/>\n",
              "  </svg>\n",
              "      </button>\n",
              "      \n",
              "  <style>\n",
              "    .colab-df-container {\n",
              "      display:flex;\n",
              "      flex-wrap:wrap;\n",
              "      gap: 12px;\n",
              "    }\n",
              "\n",
              "    .colab-df-convert {\n",
              "      background-color: #E8F0FE;\n",
              "      border: none;\n",
              "      border-radius: 50%;\n",
              "      cursor: pointer;\n",
              "      display: none;\n",
              "      fill: #1967D2;\n",
              "      height: 32px;\n",
              "      padding: 0 0 0 0;\n",
              "      width: 32px;\n",
              "    }\n",
              "\n",
              "    .colab-df-convert:hover {\n",
              "      background-color: #E2EBFA;\n",
              "      box-shadow: 0px 1px 2px rgba(60, 64, 67, 0.3), 0px 1px 3px 1px rgba(60, 64, 67, 0.15);\n",
              "      fill: #174EA6;\n",
              "    }\n",
              "\n",
              "    [theme=dark] .colab-df-convert {\n",
              "      background-color: #3B4455;\n",
              "      fill: #D2E3FC;\n",
              "    }\n",
              "\n",
              "    [theme=dark] .colab-df-convert:hover {\n",
              "      background-color: #434B5C;\n",
              "      box-shadow: 0px 1px 3px 1px rgba(0, 0, 0, 0.15);\n",
              "      filter: drop-shadow(0px 1px 2px rgba(0, 0, 0, 0.3));\n",
              "      fill: #FFFFFF;\n",
              "    }\n",
              "  </style>\n",
              "\n",
              "      <script>\n",
              "        const buttonEl =\n",
              "          document.querySelector('#df-84fbc6df-e1cd-41d8-ac87-3d53fa130971 button.colab-df-convert');\n",
              "        buttonEl.style.display =\n",
              "          google.colab.kernel.accessAllowed ? 'block' : 'none';\n",
              "\n",
              "        async function convertToInteractive(key) {\n",
              "          const element = document.querySelector('#df-84fbc6df-e1cd-41d8-ac87-3d53fa130971');\n",
              "          const dataTable =\n",
              "            await google.colab.kernel.invokeFunction('convertToInteractive',\n",
              "                                                     [key], {});\n",
              "          if (!dataTable) return;\n",
              "\n",
              "          const docLinkHtml = 'Like what you see? Visit the ' +\n",
              "            '<a target=\"_blank\" href=https://colab.research.google.com/notebooks/data_table.ipynb>data table notebook</a>'\n",
              "            + ' to learn more about interactive tables.';\n",
              "          element.innerHTML = '';\n",
              "          dataTable['output_type'] = 'display_data';\n",
              "          await google.colab.output.renderOutput(dataTable, element);\n",
              "          const docLink = document.createElement('div');\n",
              "          docLink.innerHTML = docLinkHtml;\n",
              "          element.appendChild(docLink);\n",
              "        }\n",
              "      </script>\n",
              "    </div>\n",
              "  </div>\n",
              "  "
            ]
          },
          "metadata": {}
        }
      ],
      "source": [
        "display(df3)"
      ]
    },
    {
      "cell_type": "code",
      "execution_count": null,
      "metadata": {
        "id": "uJWTgaaXY25-"
      },
      "outputs": [],
      "source": [
        "# Salvando o Resultado em um arquivo Excel\n",
        "df3.to_excel('previsaoRadioterapia.xlsx')\n",
        "print('O Data frame foi extraído no Excel com sucesso.')"
      ]
    },
    {
      "cell_type": "code",
      "execution_count": null,
      "metadata": {
        "id": "1aJ1IHoUY25-"
      },
      "outputs": [],
      "source": [
        "# DataFrame para os gráficos\n",
        "q2 = 'SELECT Mes, SUM(Previsto) as Predict FROM df3 WHERE 1 = 1 GROUP BY Mes'\n",
        "df4 = sqldf(q2, globals())\n",
        "display(df4)\n",
        "display(df2.info())"
      ]
    },
    {
      "cell_type": "code",
      "execution_count": 37,
      "metadata": {
        "id": "iChHi2yzY25-",
        "colab": {
          "base_uri": "https://localhost:8080/",
          "height": 296
        },
        "outputId": "81a18e96-d35d-4c66-ea2d-67d23a9d8586"
      },
      "outputs": [
        {
          "output_type": "execute_result",
          "data": {
            "text/plain": [
              "<AxesSubplot:xlabel='Mes', ylabel='Predict'>"
            ]
          },
          "metadata": {},
          "execution_count": 37
        },
        {
          "output_type": "display_data",
          "data": {
            "text/plain": [
              "<Figure size 432x288 with 1 Axes>"
            ],
            "image/png": "[encoded data removed]"
          },
          "metadata": {}
        }
      ],
      "source": [
        "sns.set_style('darkgrid')\n",
        "sns.barplot(data=df4, x=\"Mes\", y=\"Predict\")\n",
        "\n"
      ]
    },
    {
      "cell_type": "code",
      "execution_count": 42,
      "metadata": {
        "id": "H6XWIZ8UY25-",
        "colab": {
          "base_uri": "https://localhost:8080/",
          "height": 265
        },
        "outputId": "a10f9e0c-aa84-4e65-890e-42625e4272a5"
      },
      "outputs": [
        {
          "output_type": "display_data",
          "data": {
            "text/plain": [
              "<Figure size 720x288 with 1 Axes>"
            ],
            "image/png": "[encoded data removed]"
          },
          "metadata": {}
        }
      ],
      "source": [
        "# Gráfico em linha da previsão de radioterapias para 2023\n",
        "plt.figure(figsize=(10,4))\n",
        "plt.plot(df4['Mes'], df4['Predict'], label= 'Previsão Radioterapia')\n",
        "plt.legend()\n",
        "for x, y in zip(df4['Mes'], df4['Predict']):\n",
        "    plt.text(x, y, str(y), color=\"black\", fontsize=12)\n",
        "plt.show()"
      ]
    },
    {
      "cell_type": "code",
      "execution_count": 39,
      "metadata": {
        "id": "TeMJifN8Y25-"
      },
      "outputs": [],
      "source": [
        "# Importando o Pickle para salvar o modelo\n",
        "import pickle"
      ]
    },
    {
      "cell_type": "code",
      "execution_count": null,
      "metadata": {
        "id": "gyF31WcKY25-"
      },
      "outputs": [],
      "source": [
        "pickle.dump(model, open('xgb_model.pkl', 'wb'))"
      ]
    },
    {
      "cell_type": "code",
      "execution_count": null,
      "metadata": {
        "id": "nXTZQli6Y25-"
      },
      "outputs": [],
      "source": [
        "#Recarrega o modelo\n",
        "#pickled_model = pickle.load(open('xgb_model.pkl', 'rb'))\n",
        "#pickled_model.predict(X_test)"
      ]
    }
  ],
  "metadata": {
    "kernelspec": {
      "display_name": "Python 3 (ipykernel)",
      "language": "python",
      "name": "python3"
    },
    "language_info": {
      "codemirror_mode": {
        "name": "ipython",
        "version": 3
      },
      "file_extension": ".py",
      "mimetype": "text/x-python",
      "name": "python",
      "nbconvert_exporter": "python",
      "pygments_lexer": "ipython3",
      "version": "3.9.12"
    },
    "colab": {
      "provenance": [],
      "include_colab_link": true
    }
  },
  "nbformat": 4,
  "nbformat_minor": 0
}