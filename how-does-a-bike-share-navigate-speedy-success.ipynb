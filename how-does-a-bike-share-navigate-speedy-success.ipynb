{
 "cells": [
  {
   "cell_type": "code",
   "execution_count": 1,
   "id": "6634290e",
   "metadata": {
    "_cell_guid": "b1076dfc-b9ad-4769-8c92-a6c4dae69d19",
    "_uuid": "8f2839f25d086af736a60e9eeb907d3b93b6e0e5",
    "execution": {
     "iopub.execute_input": "2023-06-05T19:13:05.611614Z",
     "iopub.status.busy": "2023-06-05T19:13:05.610916Z",
     "iopub.status.idle": "2023-06-05T19:13:05.631796Z",
     "shell.execute_reply": "2023-06-05T19:13:05.630468Z"
    },
    "papermill": {
     "duration": 0.036254,
     "end_time": "2023-06-05T19:13:05.633837",
     "exception": false,
     "start_time": "2023-06-05T19:13:05.597583",
     "status": "completed"
    },
    "tags": []
   },
   "outputs": [
    {
     "name": "stdout",
     "output_type": "stream",
     "text": [
      "/kaggle/input/chicago-divvy-bicycle-sharing-data/data_raw.csv\n",
      "/kaggle/input/chicago-divvy-bicycle-sharing-data/data.csv\n"
     ]
    }
   ],
   "source": [
    "# This Python 3 environment comes with many helpful analytics libraries installed\n",
    "# It is defined by the kaggle/python Docker image: https://github.com/kaggle/docker-python\n",
    "# For example, here's several helpful packages to load\n",
    "\n",
    "import numpy as np # linear algebra\n",
    "import pandas as pd # data processing, CSV file I/O (e.g. pd.read_csv)\n",
    "\n",
    "# Input data files are available in the read-only \"../input/\" directory\n",
    "# For example, running this (by clicking run or pressing Shift+Enter) will list all files under the input directory\n",
    "\n",
    "import os\n",
    "for dirname, _, filenames in os.walk('/kaggle/input'):\n",
    "    for filename in filenames:\n",
    "        print(os.path.join(dirname, filename))\n",
    "\n",
    "# You can write up to 20GB to the current directory (/kaggle/working/) that gets preserved as output when you create a version using \"Save & Run All\" \n",
    "# You can also write temporary files to /kaggle/temp/, but they won't be saved outside of the current session"
   ]
  },
  {
   "cell_type": "markdown",
   "id": "93b94b1a",
   "metadata": {
    "papermill": {
     "duration": 0.007353,
     "end_time": "2023-06-05T19:13:05.649282",
     "exception": false,
     "start_time": "2023-06-05T19:13:05.641929",
     "status": "completed"
    },
    "tags": []
   },
   "source": [
    "## Case Study 1: How Does a Bike-Share Navigate Speedy Success?\n",
    "### Scenario\n",
    "I am a junior data analyst working in the marketing analyst team at Cyclistic, a bike-share company in Chicago. The director of marketing believes the company’s future success depends on maximizing the number of annual memberships. Therefore, my team wants to understand how casual riders and annual members use Cyclistic bikes differently. From these insights, my team will design a new marketing strategy to convert casual riders into annual members.\n",
    "\n",
    "### About the company\n",
    "In 2016, Cyclistic launched a successful bike-share oering. Since then, the program has grown to a fleet of 5,824 bicycles that are geotracked and locked into a network of 692 stations across Chicago. The bikes can be unlocked from one station and returned to any other station in the system anytime. Until now, Cyclistic’s marketing strategy relied on building general awareness and appealing to broad consumer segments. One approach that helped make these things possible was the flexibility of its pricing plans: single-ride passes, full-day passes, and annual memberships. Customers who purchase single-ride or full-day passes are referred to as casual riders. Customers who purchase annual memberships are Cyclistic members. Cyclistic’s finance analysts have concluded that annual members are much more profitable than casual riders. Although the pricing flexibility helps Cyclistic attract more customers, The director of marketing believes that maximizing the number of annual members will be key to future growth. Rather than creating a marketing campaign that targets all-new customers, she believes there is a very good chance to convert casual riders into members. She notes that casual riders are already aware of the Cyclistic program and have chosen Cyclistic for their mobility needs.\n",
    "  "
   ]
  },
  {
   "cell_type": "markdown",
   "id": "5eeca53d",
   "metadata": {
    "papermill": {
     "duration": 0.007401,
     "end_time": "2023-06-05T19:13:05.664254",
     "exception": false,
     "start_time": "2023-06-05T19:13:05.656853",
     "status": "completed"
    },
    "tags": []
   },
   "source": [
    "### The goal of this case study\n",
    "The goal of this case study\n",
    "Three questions will guide the future marketing program:\n",
    "    1. How do annual members and casual riders use Cyclistic bikes differently?\n",
    "    2. Why would casual riders buy Cyclistic annual memberships?     \n",
    "    3. How can Cyclistic use digital media to influence casual riders to become members?\n",
    "    \n",
    "The director of marketing has assigned me the first question to answer: How do annual members and casual riders use Cyclistic bikes differently?\n",
    "In this assignment, I will produce a report with the following deliverables:\n",
    "    1.A clear statement of the business task\n",
    "    2. A description of all data sources used\n",
    "    3. Documentation of any cleaning or manipulation of data\n",
    "    4. A summary of my analysis\n",
    "    5. Supporting visualizations and key findings "
   ]
  },
  {
   "cell_type": "markdown",
   "id": "ffe4dc01",
   "metadata": {
    "papermill": {
     "duration": 0.007432,
     "end_time": "2023-06-05T19:13:05.679434",
     "exception": false,
     "start_time": "2023-06-05T19:13:05.672002",
     "status": "completed"
    },
    "tags": []
   },
   "source": [
    "### About the data set:\n",
    "\n",
    "The original dataset of this studycase is: Divvy’s, a bike-share program based in Chicago, data from May 2020 – April 2021.\n",
    "To download the data, please use this [link](http://divvy-tripdata.s3.amazonaws.com/index.html). \n",
    "This data was made public by Motivate International Inc, under [this license](https://ride.divvybikes.com/data-license-agreement). Due to data privacy issues, personal information has been removed or encrypted.\n",
    "\n",
    "I'm using the kaggle dataset in this notebook."
   ]
  },
  {
   "cell_type": "markdown",
   "id": "650f862a",
   "metadata": {
    "papermill": {
     "duration": 0.007328,
     "end_time": "2023-06-05T19:13:05.694416",
     "exception": false,
     "start_time": "2023-06-05T19:13:05.687088",
     "status": "completed"
    },
    "tags": []
   },
   "source": [
    "## Ask\n",
    "Business Task In order to maximize the number of annual membership, I, data analyst, will find trend and patterns among casual riders and membership riders, and identify potential riders who can get benefit from annual membership. I do not need to raise awareness of annual membership among casual riders as they are already aware of the program.\n",
    "\n",
    "Stakeholder's expectation Design marketing strategies aimed at converting casual riders into annual members. In order to do that, however, the marketing analyst team needs to better understand how annual members and casual riders differ, why casual riders would buy a membership, and how digital media could affect their marketing tactics. The marketing team is interested in analyzing the Cyclistic historical bike trip data to identify trends.\n"
   ]
  },
  {
   "cell_type": "markdown",
   "id": "f0eeaae5",
   "metadata": {
    "papermill": {
     "duration": 0.007805,
     "end_time": "2023-06-05T19:13:05.711814",
     "exception": false,
     "start_time": "2023-06-05T19:13:05.704009",
     "status": "completed"
    },
    "tags": []
   },
   "source": [
    "## Prepare\n",
    "With ROOOC check"
   ]
  },
  {
   "cell_type": "code",
   "execution_count": 2,
   "id": "2ab6ca11",
   "metadata": {
    "execution": {
     "iopub.execute_input": "2023-06-05T19:13:05.731694Z",
     "iopub.status.busy": "2023-06-05T19:13:05.731238Z",
     "iopub.status.idle": "2023-06-05T19:13:52.010701Z",
     "shell.execute_reply": "2023-06-05T19:13:52.009394Z"
    },
    "papermill": {
     "duration": 46.292122,
     "end_time": "2023-06-05T19:13:52.013226",
     "exception": false,
     "start_time": "2023-06-05T19:13:05.721104",
     "status": "completed"
    },
    "tags": []
   },
   "outputs": [],
   "source": [
    "# Carregando os dados\n",
    "df = pd.read_csv('/kaggle/input/chicago-divvy-bicycle-sharing-data/data.csv')"
   ]
  },
  {
   "cell_type": "code",
   "execution_count": 3,
   "id": "722e8bf0",
   "metadata": {
    "execution": {
     "iopub.execute_input": "2023-06-05T19:13:52.033502Z",
     "iopub.status.busy": "2023-06-05T19:13:52.033071Z",
     "iopub.status.idle": "2023-06-05T19:13:52.077498Z",
     "shell.execute_reply": "2023-06-05T19:13:52.076542Z"
    },
    "papermill": {
     "duration": 0.056972,
     "end_time": "2023-06-05T19:13:52.079921",
     "exception": false,
     "start_time": "2023-06-05T19:13:52.022949",
     "status": "completed"
    },
    "tags": []
   },
   "outputs": [
    {
     "data": {
      "text/html": [
       "<div>\n",
       "<style scoped>\n",
       "    .dataframe tbody tr th:only-of-type {\n",
       "        vertical-align: middle;\n",
       "    }\n",
       "\n",
       "    .dataframe tbody tr th {\n",
       "        vertical-align: top;\n",
       "    }\n",
       "\n",
       "    .dataframe thead th {\n",
       "        text-align: right;\n",
       "    }\n",
       "</style>\n",
       "<table border=\"1\" class=\"dataframe\">\n",
       "  <thead>\n",
       "    <tr style=\"text-align: right;\">\n",
       "      <th></th>\n",
       "      <th>trip_id</th>\n",
       "      <th>year</th>\n",
       "      <th>month</th>\n",
       "      <th>week</th>\n",
       "      <th>day</th>\n",
       "      <th>hour</th>\n",
       "      <th>usertype</th>\n",
       "      <th>gender</th>\n",
       "      <th>starttime</th>\n",
       "      <th>stoptime</th>\n",
       "      <th>...</th>\n",
       "      <th>from_station_id</th>\n",
       "      <th>from_station_name</th>\n",
       "      <th>latitude_start</th>\n",
       "      <th>longitude_start</th>\n",
       "      <th>dpcapacity_start</th>\n",
       "      <th>to_station_id</th>\n",
       "      <th>to_station_name</th>\n",
       "      <th>latitude_end</th>\n",
       "      <th>longitude_end</th>\n",
       "      <th>dpcapacity_end</th>\n",
       "    </tr>\n",
       "  </thead>\n",
       "  <tbody>\n",
       "    <tr>\n",
       "      <th>0</th>\n",
       "      <td>2355134</td>\n",
       "      <td>2014</td>\n",
       "      <td>6</td>\n",
       "      <td>27</td>\n",
       "      <td>0</td>\n",
       "      <td>23</td>\n",
       "      <td>Subscriber</td>\n",
       "      <td>Male</td>\n",
       "      <td>2014-06-30 23:57:00</td>\n",
       "      <td>2014-07-01 00:07:00</td>\n",
       "      <td>...</td>\n",
       "      <td>131</td>\n",
       "      <td>Lincoln Ave &amp; Belmont Ave</td>\n",
       "      <td>41.939365</td>\n",
       "      <td>-87.668385</td>\n",
       "      <td>15.0</td>\n",
       "      <td>303</td>\n",
       "      <td>Broadway &amp; Cornelia Ave</td>\n",
       "      <td>41.945512</td>\n",
       "      <td>-87.645980</td>\n",
       "      <td>15.0</td>\n",
       "    </tr>\n",
       "    <tr>\n",
       "      <th>1</th>\n",
       "      <td>2355133</td>\n",
       "      <td>2014</td>\n",
       "      <td>6</td>\n",
       "      <td>27</td>\n",
       "      <td>0</td>\n",
       "      <td>23</td>\n",
       "      <td>Subscriber</td>\n",
       "      <td>Male</td>\n",
       "      <td>2014-06-30 23:56:00</td>\n",
       "      <td>2014-07-01 00:00:00</td>\n",
       "      <td>...</td>\n",
       "      <td>282</td>\n",
       "      <td>Halsted St &amp; Maxwell St</td>\n",
       "      <td>41.864580</td>\n",
       "      <td>-87.646930</td>\n",
       "      <td>15.0</td>\n",
       "      <td>22</td>\n",
       "      <td>May St &amp; Taylor St</td>\n",
       "      <td>41.869482</td>\n",
       "      <td>-87.655486</td>\n",
       "      <td>15.0</td>\n",
       "    </tr>\n",
       "    <tr>\n",
       "      <th>2</th>\n",
       "      <td>2355130</td>\n",
       "      <td>2014</td>\n",
       "      <td>6</td>\n",
       "      <td>27</td>\n",
       "      <td>0</td>\n",
       "      <td>23</td>\n",
       "      <td>Subscriber</td>\n",
       "      <td>Male</td>\n",
       "      <td>2014-06-30 23:33:00</td>\n",
       "      <td>2014-06-30 23:35:00</td>\n",
       "      <td>...</td>\n",
       "      <td>327</td>\n",
       "      <td>Sheffield Ave &amp; Webster Ave</td>\n",
       "      <td>41.921687</td>\n",
       "      <td>-87.653714</td>\n",
       "      <td>19.0</td>\n",
       "      <td>225</td>\n",
       "      <td>Halsted St &amp; Dickens Ave</td>\n",
       "      <td>41.919936</td>\n",
       "      <td>-87.648830</td>\n",
       "      <td>15.0</td>\n",
       "    </tr>\n",
       "    <tr>\n",
       "      <th>3</th>\n",
       "      <td>2355129</td>\n",
       "      <td>2014</td>\n",
       "      <td>6</td>\n",
       "      <td>27</td>\n",
       "      <td>0</td>\n",
       "      <td>23</td>\n",
       "      <td>Subscriber</td>\n",
       "      <td>Female</td>\n",
       "      <td>2014-06-30 23:26:00</td>\n",
       "      <td>2014-07-01 00:24:00</td>\n",
       "      <td>...</td>\n",
       "      <td>134</td>\n",
       "      <td>Peoria St &amp; Jackson Blvd</td>\n",
       "      <td>41.877749</td>\n",
       "      <td>-87.649633</td>\n",
       "      <td>19.0</td>\n",
       "      <td>194</td>\n",
       "      <td>State St &amp; Wacker Dr</td>\n",
       "      <td>41.887155</td>\n",
       "      <td>-87.627750</td>\n",
       "      <td>11.0</td>\n",
       "    </tr>\n",
       "    <tr>\n",
       "      <th>4</th>\n",
       "      <td>2355128</td>\n",
       "      <td>2014</td>\n",
       "      <td>6</td>\n",
       "      <td>27</td>\n",
       "      <td>0</td>\n",
       "      <td>23</td>\n",
       "      <td>Subscriber</td>\n",
       "      <td>Female</td>\n",
       "      <td>2014-06-30 23:16:00</td>\n",
       "      <td>2014-06-30 23:26:00</td>\n",
       "      <td>...</td>\n",
       "      <td>320</td>\n",
       "      <td>Loomis St &amp; Lexington St</td>\n",
       "      <td>41.872187</td>\n",
       "      <td>-87.661501</td>\n",
       "      <td>15.0</td>\n",
       "      <td>134</td>\n",
       "      <td>Peoria St &amp; Jackson Blvd</td>\n",
       "      <td>41.877749</td>\n",
       "      <td>-87.649633</td>\n",
       "      <td>19.0</td>\n",
       "    </tr>\n",
       "  </tbody>\n",
       "</table>\n",
       "<p>5 rows × 23 columns</p>\n",
       "</div>"
      ],
      "text/plain": [
       "   trip_id  year  month  week  day  hour    usertype  gender  \\\n",
       "0  2355134  2014      6    27    0    23  Subscriber    Male   \n",
       "1  2355133  2014      6    27    0    23  Subscriber    Male   \n",
       "2  2355130  2014      6    27    0    23  Subscriber    Male   \n",
       "3  2355129  2014      6    27    0    23  Subscriber  Female   \n",
       "4  2355128  2014      6    27    0    23  Subscriber  Female   \n",
       "\n",
       "             starttime             stoptime  ...  from_station_id  \\\n",
       "0  2014-06-30 23:57:00  2014-07-01 00:07:00  ...              131   \n",
       "1  2014-06-30 23:56:00  2014-07-01 00:00:00  ...              282   \n",
       "2  2014-06-30 23:33:00  2014-06-30 23:35:00  ...              327   \n",
       "3  2014-06-30 23:26:00  2014-07-01 00:24:00  ...              134   \n",
       "4  2014-06-30 23:16:00  2014-06-30 23:26:00  ...              320   \n",
       "\n",
       "             from_station_name latitude_start  longitude_start  \\\n",
       "0    Lincoln Ave & Belmont Ave      41.939365       -87.668385   \n",
       "1      Halsted St & Maxwell St      41.864580       -87.646930   \n",
       "2  Sheffield Ave & Webster Ave      41.921687       -87.653714   \n",
       "3     Peoria St & Jackson Blvd      41.877749       -87.649633   \n",
       "4     Loomis St & Lexington St      41.872187       -87.661501   \n",
       "\n",
       "  dpcapacity_start  to_station_id           to_station_name  latitude_end  \\\n",
       "0             15.0            303   Broadway & Cornelia Ave     41.945512   \n",
       "1             15.0             22        May St & Taylor St     41.869482   \n",
       "2             19.0            225  Halsted St & Dickens Ave     41.919936   \n",
       "3             19.0            194      State St & Wacker Dr     41.887155   \n",
       "4             15.0            134  Peoria St & Jackson Blvd     41.877749   \n",
       "\n",
       "   longitude_end dpcapacity_end  \n",
       "0     -87.645980           15.0  \n",
       "1     -87.655486           15.0  \n",
       "2     -87.648830           15.0  \n",
       "3     -87.627750           11.0  \n",
       "4     -87.649633           19.0  \n",
       "\n",
       "[5 rows x 23 columns]"
      ]
     },
     "execution_count": 3,
     "metadata": {},
     "output_type": "execute_result"
    }
   ],
   "source": [
    "# Verificando os dados\n",
    "df.head()"
   ]
  },
  {
   "cell_type": "code",
   "execution_count": 4,
   "id": "9b815e4f",
   "metadata": {
    "execution": {
     "iopub.execute_input": "2023-06-05T19:13:52.098940Z",
     "iopub.status.busy": "2023-06-05T19:13:52.098477Z",
     "iopub.status.idle": "2023-06-05T19:13:52.104192Z",
     "shell.execute_reply": "2023-06-05T19:13:52.103542Z"
    },
    "papermill": {
     "duration": 0.018303,
     "end_time": "2023-06-05T19:13:52.107006",
     "exception": false,
     "start_time": "2023-06-05T19:13:52.088703",
     "status": "completed"
    },
    "tags": []
   },
   "outputs": [
    {
     "name": "stdout",
     "output_type": "stream",
     "text": [
      "Index(['trip_id', 'year', 'month', 'week', 'day', 'hour', 'usertype', 'gender',\n",
      "       'starttime', 'stoptime', 'tripduration', 'temperature', 'events',\n",
      "       'from_station_id', 'from_station_name', 'latitude_start',\n",
      "       'longitude_start', 'dpcapacity_start', 'to_station_id',\n",
      "       'to_station_name', 'latitude_end', 'longitude_end', 'dpcapacity_end'],\n",
      "      dtype='object')\n"
     ]
    }
   ],
   "source": [
    "# Verificando as colunas\n",
    "print(df.columns)"
   ]
  },
  {
   "cell_type": "code",
   "execution_count": 5,
   "id": "a263c701",
   "metadata": {
    "execution": {
     "iopub.execute_input": "2023-06-05T19:13:52.126710Z",
     "iopub.status.busy": "2023-06-05T19:13:52.125738Z",
     "iopub.status.idle": "2023-06-05T19:13:52.132114Z",
     "shell.execute_reply": "2023-06-05T19:13:52.131540Z"
    },
    "papermill": {
     "duration": 0.019363,
     "end_time": "2023-06-05T19:13:52.134820",
     "exception": false,
     "start_time": "2023-06-05T19:13:52.115457",
     "status": "completed"
    },
    "tags": []
   },
   "outputs": [
    {
     "name": "stdout",
     "output_type": "stream",
     "text": [
      "trip_id                int64\n",
      "year                   int64\n",
      "month                  int64\n",
      "week                   int64\n",
      "day                    int64\n",
      "hour                   int64\n",
      "usertype              object\n",
      "gender                object\n",
      "starttime             object\n",
      "stoptime              object\n",
      "tripduration         float64\n",
      "temperature          float64\n",
      "events                object\n",
      "from_station_id        int64\n",
      "from_station_name     object\n",
      "latitude_start       float64\n",
      "longitude_start      float64\n",
      "dpcapacity_start     float64\n",
      "to_station_id          int64\n",
      "to_station_name       object\n",
      "latitude_end         float64\n",
      "longitude_end        float64\n",
      "dpcapacity_end       float64\n",
      "dtype: object\n"
     ]
    }
   ],
   "source": [
    "print(df.dtypes)"
   ]
  },
  {
   "cell_type": "markdown",
   "id": "90c1e3a8",
   "metadata": {
    "papermill": {
     "duration": 0.008194,
     "end_time": "2023-06-05T19:13:52.153050",
     "exception": false,
     "start_time": "2023-06-05T19:13:52.144856",
     "status": "completed"
    },
    "tags": []
   },
   "source": [
    "## Process\n",
    "Data Cleaning before conducting analysis"
   ]
  },
  {
   "cell_type": "code",
   "execution_count": 6,
   "id": "c7fbcb5c",
   "metadata": {
    "execution": {
     "iopub.execute_input": "2023-06-05T19:13:52.171780Z",
     "iopub.status.busy": "2023-06-05T19:13:52.171094Z",
     "iopub.status.idle": "2023-06-05T19:13:52.175826Z",
     "shell.execute_reply": "2023-06-05T19:13:52.174891Z"
    },
    "papermill": {
     "duration": 0.016169,
     "end_time": "2023-06-05T19:13:52.177392",
     "exception": false,
     "start_time": "2023-06-05T19:13:52.161223",
     "status": "completed"
    },
    "tags": []
   },
   "outputs": [
    {
     "name": "stdout",
     "output_type": "stream",
     "text": [
      "(9495235, 23)\n"
     ]
    }
   ],
   "source": [
    "# Verificando as dimensões do dataframe\n",
    "print(df.shape)"
   ]
  },
  {
   "cell_type": "code",
   "execution_count": 7,
   "id": "079a611d",
   "metadata": {
    "execution": {
     "iopub.execute_input": "2023-06-05T19:13:52.195853Z",
     "iopub.status.busy": "2023-06-05T19:13:52.195209Z",
     "iopub.status.idle": "2023-06-05T19:13:56.263508Z",
     "shell.execute_reply": "2023-06-05T19:13:56.262631Z"
    },
    "papermill": {
     "duration": 4.079702,
     "end_time": "2023-06-05T19:13:56.265396",
     "exception": false,
     "start_time": "2023-06-05T19:13:52.185694",
     "status": "completed"
    },
    "tags": []
   },
   "outputs": [
    {
     "data": {
      "text/html": [
       "<div>\n",
       "<style scoped>\n",
       "    .dataframe tbody tr th:only-of-type {\n",
       "        vertical-align: middle;\n",
       "    }\n",
       "\n",
       "    .dataframe tbody tr th {\n",
       "        vertical-align: top;\n",
       "    }\n",
       "\n",
       "    .dataframe thead th {\n",
       "        text-align: right;\n",
       "    }\n",
       "</style>\n",
       "<table border=\"1\" class=\"dataframe\">\n",
       "  <thead>\n",
       "    <tr style=\"text-align: right;\">\n",
       "      <th></th>\n",
       "      <th>trip_id</th>\n",
       "      <th>year</th>\n",
       "      <th>month</th>\n",
       "      <th>week</th>\n",
       "      <th>day</th>\n",
       "      <th>hour</th>\n",
       "      <th>tripduration</th>\n",
       "      <th>temperature</th>\n",
       "      <th>from_station_id</th>\n",
       "      <th>latitude_start</th>\n",
       "      <th>longitude_start</th>\n",
       "      <th>dpcapacity_start</th>\n",
       "      <th>to_station_id</th>\n",
       "      <th>latitude_end</th>\n",
       "      <th>longitude_end</th>\n",
       "      <th>dpcapacity_end</th>\n",
       "    </tr>\n",
       "  </thead>\n",
       "  <tbody>\n",
       "    <tr>\n",
       "      <th>count</th>\n",
       "      <td>9.495235e+06</td>\n",
       "      <td>9.495235e+06</td>\n",
       "      <td>9.495235e+06</td>\n",
       "      <td>9.495235e+06</td>\n",
       "      <td>9.495235e+06</td>\n",
       "      <td>9.495235e+06</td>\n",
       "      <td>9.495235e+06</td>\n",
       "      <td>9.495235e+06</td>\n",
       "      <td>9.495235e+06</td>\n",
       "      <td>9.495235e+06</td>\n",
       "      <td>9.495235e+06</td>\n",
       "      <td>9.495235e+06</td>\n",
       "      <td>9.495235e+06</td>\n",
       "      <td>9.495235e+06</td>\n",
       "      <td>9.495235e+06</td>\n",
       "      <td>9.495235e+06</td>\n",
       "    </tr>\n",
       "    <tr>\n",
       "      <th>mean</th>\n",
       "      <td>9.861173e+06</td>\n",
       "      <td>2.015737e+03</td>\n",
       "      <td>7.161242e+00</td>\n",
       "      <td>2.938068e+01</td>\n",
       "      <td>2.687387e+00</td>\n",
       "      <td>1.362471e+01</td>\n",
       "      <td>1.144686e+01</td>\n",
       "      <td>6.299990e+01</td>\n",
       "      <td>1.799215e+02</td>\n",
       "      <td>4.190017e+01</td>\n",
       "      <td>-8.764473e+01</td>\n",
       "      <td>2.138426e+01</td>\n",
       "      <td>1.807048e+02</td>\n",
       "      <td>4.190069e+01</td>\n",
       "      <td>-8.764496e+01</td>\n",
       "      <td>2.128447e+01</td>\n",
       "    </tr>\n",
       "    <tr>\n",
       "      <th>std</th>\n",
       "      <td>4.680018e+06</td>\n",
       "      <td>1.075629e+00</td>\n",
       "      <td>2.708379e+00</td>\n",
       "      <td>1.177941e+01</td>\n",
       "      <td>1.890345e+00</td>\n",
       "      <td>4.858830e+00</td>\n",
       "      <td>7.206061e+00</td>\n",
       "      <td>1.720086e+01</td>\n",
       "      <td>1.217041e+02</td>\n",
       "      <td>3.467450e-02</td>\n",
       "      <td>2.175210e-02</td>\n",
       "      <td>7.644496e+00</td>\n",
       "      <td>1.221144e+02</td>\n",
       "      <td>3.494946e-02</td>\n",
       "      <td>2.181374e-02</td>\n",
       "      <td>7.595932e+00</td>\n",
       "    </tr>\n",
       "    <tr>\n",
       "      <th>min</th>\n",
       "      <td>1.109427e+06</td>\n",
       "      <td>2.014000e+03</td>\n",
       "      <td>1.000000e+00</td>\n",
       "      <td>1.000000e+00</td>\n",
       "      <td>0.000000e+00</td>\n",
       "      <td>0.000000e+00</td>\n",
       "      <td>2.000000e+00</td>\n",
       "      <td>-1.500000e+01</td>\n",
       "      <td>2.000000e+00</td>\n",
       "      <td>4.173665e+01</td>\n",
       "      <td>-8.780287e+01</td>\n",
       "      <td>0.000000e+00</td>\n",
       "      <td>2.000000e+00</td>\n",
       "      <td>4.173665e+01</td>\n",
       "      <td>-8.780287e+01</td>\n",
       "      <td>0.000000e+00</td>\n",
       "    </tr>\n",
       "    <tr>\n",
       "      <th>25%</th>\n",
       "      <td>5.941660e+06</td>\n",
       "      <td>2.015000e+03</td>\n",
       "      <td>5.000000e+00</td>\n",
       "      <td>2.100000e+01</td>\n",
       "      <td>1.000000e+00</td>\n",
       "      <td>9.000000e+00</td>\n",
       "      <td>6.033333e+00</td>\n",
       "      <td>5.200000e+01</td>\n",
       "      <td>7.700000e+01</td>\n",
       "      <td>4.188103e+01</td>\n",
       "      <td>-8.765479e+01</td>\n",
       "      <td>1.500000e+01</td>\n",
       "      <td>7.700000e+01</td>\n",
       "      <td>4.188132e+01</td>\n",
       "      <td>-8.765549e+01</td>\n",
       "      <td>1.500000e+01</td>\n",
       "    </tr>\n",
       "    <tr>\n",
       "      <th>50%</th>\n",
       "      <td>1.005810e+07</td>\n",
       "      <td>2.016000e+03</td>\n",
       "      <td>7.000000e+00</td>\n",
       "      <td>3.000000e+01</td>\n",
       "      <td>3.000000e+00</td>\n",
       "      <td>1.500000e+01</td>\n",
       "      <td>9.633333e+00</td>\n",
       "      <td>6.690000e+01</td>\n",
       "      <td>1.640000e+02</td>\n",
       "      <td>4.189228e+01</td>\n",
       "      <td>-8.764107e+01</td>\n",
       "      <td>1.900000e+01</td>\n",
       "      <td>1.640000e+02</td>\n",
       "      <td>4.189384e+01</td>\n",
       "      <td>-8.764109e+01</td>\n",
       "      <td>1.900000e+01</td>\n",
       "    </tr>\n",
       "    <tr>\n",
       "      <th>75%</th>\n",
       "      <td>1.383260e+07</td>\n",
       "      <td>2.017000e+03</td>\n",
       "      <td>9.000000e+00</td>\n",
       "      <td>3.800000e+01</td>\n",
       "      <td>4.000000e+00</td>\n",
       "      <td>1.700000e+01</td>\n",
       "      <td>1.520000e+01</td>\n",
       "      <td>7.590000e+01</td>\n",
       "      <td>2.680000e+02</td>\n",
       "      <td>4.192008e+01</td>\n",
       "      <td>-8.763058e+01</td>\n",
       "      <td>2.300000e+01</td>\n",
       "      <td>2.730000e+02</td>\n",
       "      <td>4.192169e+01</td>\n",
       "      <td>-8.763058e+01</td>\n",
       "      <td>2.300000e+01</td>\n",
       "    </tr>\n",
       "    <tr>\n",
       "      <th>max</th>\n",
       "      <td>1.753670e+07</td>\n",
       "      <td>2.017000e+03</td>\n",
       "      <td>1.200000e+01</td>\n",
       "      <td>5.300000e+01</td>\n",
       "      <td>6.000000e+00</td>\n",
       "      <td>2.300000e+01</td>\n",
       "      <td>6.000000e+01</td>\n",
       "      <td>9.500000e+01</td>\n",
       "      <td>6.260000e+02</td>\n",
       "      <td>4.206431e+01</td>\n",
       "      <td>-8.754939e+01</td>\n",
       "      <td>5.500000e+01</td>\n",
       "      <td>6.260000e+02</td>\n",
       "      <td>4.206431e+01</td>\n",
       "      <td>-8.754939e+01</td>\n",
       "      <td>5.500000e+01</td>\n",
       "    </tr>\n",
       "  </tbody>\n",
       "</table>\n",
       "</div>"
      ],
      "text/plain": [
       "            trip_id          year         month          week           day  \\\n",
       "count  9.495235e+06  9.495235e+06  9.495235e+06  9.495235e+06  9.495235e+06   \n",
       "mean   9.861173e+06  2.015737e+03  7.161242e+00  2.938068e+01  2.687387e+00   \n",
       "std    4.680018e+06  1.075629e+00  2.708379e+00  1.177941e+01  1.890345e+00   \n",
       "min    1.109427e+06  2.014000e+03  1.000000e+00  1.000000e+00  0.000000e+00   \n",
       "25%    5.941660e+06  2.015000e+03  5.000000e+00  2.100000e+01  1.000000e+00   \n",
       "50%    1.005810e+07  2.016000e+03  7.000000e+00  3.000000e+01  3.000000e+00   \n",
       "75%    1.383260e+07  2.017000e+03  9.000000e+00  3.800000e+01  4.000000e+00   \n",
       "max    1.753670e+07  2.017000e+03  1.200000e+01  5.300000e+01  6.000000e+00   \n",
       "\n",
       "               hour  tripduration   temperature  from_station_id  \\\n",
       "count  9.495235e+06  9.495235e+06  9.495235e+06     9.495235e+06   \n",
       "mean   1.362471e+01  1.144686e+01  6.299990e+01     1.799215e+02   \n",
       "std    4.858830e+00  7.206061e+00  1.720086e+01     1.217041e+02   \n",
       "min    0.000000e+00  2.000000e+00 -1.500000e+01     2.000000e+00   \n",
       "25%    9.000000e+00  6.033333e+00  5.200000e+01     7.700000e+01   \n",
       "50%    1.500000e+01  9.633333e+00  6.690000e+01     1.640000e+02   \n",
       "75%    1.700000e+01  1.520000e+01  7.590000e+01     2.680000e+02   \n",
       "max    2.300000e+01  6.000000e+01  9.500000e+01     6.260000e+02   \n",
       "\n",
       "       latitude_start  longitude_start  dpcapacity_start  to_station_id  \\\n",
       "count    9.495235e+06     9.495235e+06      9.495235e+06   9.495235e+06   \n",
       "mean     4.190017e+01    -8.764473e+01      2.138426e+01   1.807048e+02   \n",
       "std      3.467450e-02     2.175210e-02      7.644496e+00   1.221144e+02   \n",
       "min      4.173665e+01    -8.780287e+01      0.000000e+00   2.000000e+00   \n",
       "25%      4.188103e+01    -8.765479e+01      1.500000e+01   7.700000e+01   \n",
       "50%      4.189228e+01    -8.764107e+01      1.900000e+01   1.640000e+02   \n",
       "75%      4.192008e+01    -8.763058e+01      2.300000e+01   2.730000e+02   \n",
       "max      4.206431e+01    -8.754939e+01      5.500000e+01   6.260000e+02   \n",
       "\n",
       "       latitude_end  longitude_end  dpcapacity_end  \n",
       "count  9.495235e+06   9.495235e+06    9.495235e+06  \n",
       "mean   4.190069e+01  -8.764496e+01    2.128447e+01  \n",
       "std    3.494946e-02   2.181374e-02    7.595932e+00  \n",
       "min    4.173665e+01  -8.780287e+01    0.000000e+00  \n",
       "25%    4.188132e+01  -8.765549e+01    1.500000e+01  \n",
       "50%    4.189384e+01  -8.764109e+01    1.900000e+01  \n",
       "75%    4.192169e+01  -8.763058e+01    2.300000e+01  \n",
       "max    4.206431e+01  -8.754939e+01    5.500000e+01  "
      ]
     },
     "execution_count": 7,
     "metadata": {},
     "output_type": "execute_result"
    }
   ],
   "source": [
    "df.describe()"
   ]
  },
  {
   "cell_type": "code",
   "execution_count": 8,
   "id": "c1a2a1a8",
   "metadata": {
    "execution": {
     "iopub.execute_input": "2023-06-05T19:13:56.284389Z",
     "iopub.status.busy": "2023-06-05T19:13:56.283872Z",
     "iopub.status.idle": "2023-06-05T19:14:18.581840Z",
     "shell.execute_reply": "2023-06-05T19:14:18.580126Z"
    },
    "papermill": {
     "duration": 22.310702,
     "end_time": "2023-06-05T19:14:18.584978",
     "exception": false,
     "start_time": "2023-06-05T19:13:56.274276",
     "status": "completed"
    },
    "tags": []
   },
   "outputs": [],
   "source": [
    "# Convertendo para datetime\n",
    "df['starttime'] = pd.to_datetime(df['starttime'])\n",
    "df['stoptime'] = pd.to_datetime(df['stoptime'])\n",
    "\n",
    "# Adicionando colunas extras\n",
    "df['dia'] = df['starttime'].dt.day\n",
    "df['dia_semana'] = df['starttime'].dt.weekday\n"
   ]
  },
  {
   "cell_type": "code",
   "execution_count": 9,
   "id": "bbc76cc1",
   "metadata": {
    "execution": {
     "iopub.execute_input": "2023-06-05T19:14:18.604585Z",
     "iopub.status.busy": "2023-06-05T19:14:18.604133Z",
     "iopub.status.idle": "2023-06-05T19:14:18.608847Z",
     "shell.execute_reply": "2023-06-05T19:14:18.608006Z"
    },
    "papermill": {
     "duration": 0.01636,
     "end_time": "2023-06-05T19:14:18.610647",
     "exception": false,
     "start_time": "2023-06-05T19:14:18.594287",
     "status": "completed"
    },
    "tags": []
   },
   "outputs": [],
   "source": [
    "# Seria o equivalente ao tripduration em segundos\n",
    "#df['tempo_viagem'] = (df['stoptime'] - df['starttime']).dt.total_seconds()"
   ]
  },
  {
   "cell_type": "code",
   "execution_count": 10,
   "id": "daea9cd4",
   "metadata": {
    "execution": {
     "iopub.execute_input": "2023-06-05T19:14:18.631713Z",
     "iopub.status.busy": "2023-06-05T19:14:18.630798Z",
     "iopub.status.idle": "2023-06-05T19:14:18.650439Z",
     "shell.execute_reply": "2023-06-05T19:14:18.649762Z"
    },
    "papermill": {
     "duration": 0.031265,
     "end_time": "2023-06-05T19:14:18.652064",
     "exception": false,
     "start_time": "2023-06-05T19:14:18.620799",
     "status": "completed"
    },
    "tags": []
   },
   "outputs": [
    {
     "data": {
      "text/html": [
       "<div>\n",
       "<style scoped>\n",
       "    .dataframe tbody tr th:only-of-type {\n",
       "        vertical-align: middle;\n",
       "    }\n",
       "\n",
       "    .dataframe tbody tr th {\n",
       "        vertical-align: top;\n",
       "    }\n",
       "\n",
       "    .dataframe thead th {\n",
       "        text-align: right;\n",
       "    }\n",
       "</style>\n",
       "<table border=\"1\" class=\"dataframe\">\n",
       "  <thead>\n",
       "    <tr style=\"text-align: right;\">\n",
       "      <th></th>\n",
       "      <th>trip_id</th>\n",
       "      <th>year</th>\n",
       "      <th>month</th>\n",
       "      <th>week</th>\n",
       "      <th>day</th>\n",
       "      <th>hour</th>\n",
       "      <th>usertype</th>\n",
       "      <th>gender</th>\n",
       "      <th>starttime</th>\n",
       "      <th>stoptime</th>\n",
       "      <th>...</th>\n",
       "      <th>latitude_start</th>\n",
       "      <th>longitude_start</th>\n",
       "      <th>dpcapacity_start</th>\n",
       "      <th>to_station_id</th>\n",
       "      <th>to_station_name</th>\n",
       "      <th>latitude_end</th>\n",
       "      <th>longitude_end</th>\n",
       "      <th>dpcapacity_end</th>\n",
       "      <th>dia</th>\n",
       "      <th>dia_semana</th>\n",
       "    </tr>\n",
       "  </thead>\n",
       "  <tbody>\n",
       "    <tr>\n",
       "      <th>0</th>\n",
       "      <td>2355134</td>\n",
       "      <td>2014</td>\n",
       "      <td>6</td>\n",
       "      <td>27</td>\n",
       "      <td>0</td>\n",
       "      <td>23</td>\n",
       "      <td>Subscriber</td>\n",
       "      <td>Male</td>\n",
       "      <td>2014-06-30 23:57:00</td>\n",
       "      <td>2014-07-01 00:07:00</td>\n",
       "      <td>...</td>\n",
       "      <td>41.939365</td>\n",
       "      <td>-87.668385</td>\n",
       "      <td>15.0</td>\n",
       "      <td>303</td>\n",
       "      <td>Broadway &amp; Cornelia Ave</td>\n",
       "      <td>41.945512</td>\n",
       "      <td>-87.645980</td>\n",
       "      <td>15.0</td>\n",
       "      <td>30</td>\n",
       "      <td>0</td>\n",
       "    </tr>\n",
       "    <tr>\n",
       "      <th>1</th>\n",
       "      <td>2355133</td>\n",
       "      <td>2014</td>\n",
       "      <td>6</td>\n",
       "      <td>27</td>\n",
       "      <td>0</td>\n",
       "      <td>23</td>\n",
       "      <td>Subscriber</td>\n",
       "      <td>Male</td>\n",
       "      <td>2014-06-30 23:56:00</td>\n",
       "      <td>2014-07-01 00:00:00</td>\n",
       "      <td>...</td>\n",
       "      <td>41.864580</td>\n",
       "      <td>-87.646930</td>\n",
       "      <td>15.0</td>\n",
       "      <td>22</td>\n",
       "      <td>May St &amp; Taylor St</td>\n",
       "      <td>41.869482</td>\n",
       "      <td>-87.655486</td>\n",
       "      <td>15.0</td>\n",
       "      <td>30</td>\n",
       "      <td>0</td>\n",
       "    </tr>\n",
       "    <tr>\n",
       "      <th>2</th>\n",
       "      <td>2355130</td>\n",
       "      <td>2014</td>\n",
       "      <td>6</td>\n",
       "      <td>27</td>\n",
       "      <td>0</td>\n",
       "      <td>23</td>\n",
       "      <td>Subscriber</td>\n",
       "      <td>Male</td>\n",
       "      <td>2014-06-30 23:33:00</td>\n",
       "      <td>2014-06-30 23:35:00</td>\n",
       "      <td>...</td>\n",
       "      <td>41.921687</td>\n",
       "      <td>-87.653714</td>\n",
       "      <td>19.0</td>\n",
       "      <td>225</td>\n",
       "      <td>Halsted St &amp; Dickens Ave</td>\n",
       "      <td>41.919936</td>\n",
       "      <td>-87.648830</td>\n",
       "      <td>15.0</td>\n",
       "      <td>30</td>\n",
       "      <td>0</td>\n",
       "    </tr>\n",
       "    <tr>\n",
       "      <th>3</th>\n",
       "      <td>2355129</td>\n",
       "      <td>2014</td>\n",
       "      <td>6</td>\n",
       "      <td>27</td>\n",
       "      <td>0</td>\n",
       "      <td>23</td>\n",
       "      <td>Subscriber</td>\n",
       "      <td>Female</td>\n",
       "      <td>2014-06-30 23:26:00</td>\n",
       "      <td>2014-07-01 00:24:00</td>\n",
       "      <td>...</td>\n",
       "      <td>41.877749</td>\n",
       "      <td>-87.649633</td>\n",
       "      <td>19.0</td>\n",
       "      <td>194</td>\n",
       "      <td>State St &amp; Wacker Dr</td>\n",
       "      <td>41.887155</td>\n",
       "      <td>-87.627750</td>\n",
       "      <td>11.0</td>\n",
       "      <td>30</td>\n",
       "      <td>0</td>\n",
       "    </tr>\n",
       "    <tr>\n",
       "      <th>4</th>\n",
       "      <td>2355128</td>\n",
       "      <td>2014</td>\n",
       "      <td>6</td>\n",
       "      <td>27</td>\n",
       "      <td>0</td>\n",
       "      <td>23</td>\n",
       "      <td>Subscriber</td>\n",
       "      <td>Female</td>\n",
       "      <td>2014-06-30 23:16:00</td>\n",
       "      <td>2014-06-30 23:26:00</td>\n",
       "      <td>...</td>\n",
       "      <td>41.872187</td>\n",
       "      <td>-87.661501</td>\n",
       "      <td>15.0</td>\n",
       "      <td>134</td>\n",
       "      <td>Peoria St &amp; Jackson Blvd</td>\n",
       "      <td>41.877749</td>\n",
       "      <td>-87.649633</td>\n",
       "      <td>19.0</td>\n",
       "      <td>30</td>\n",
       "      <td>0</td>\n",
       "    </tr>\n",
       "  </tbody>\n",
       "</table>\n",
       "<p>5 rows × 25 columns</p>\n",
       "</div>"
      ],
      "text/plain": [
       "   trip_id  year  month  week  day  hour    usertype  gender  \\\n",
       "0  2355134  2014      6    27    0    23  Subscriber    Male   \n",
       "1  2355133  2014      6    27    0    23  Subscriber    Male   \n",
       "2  2355130  2014      6    27    0    23  Subscriber    Male   \n",
       "3  2355129  2014      6    27    0    23  Subscriber  Female   \n",
       "4  2355128  2014      6    27    0    23  Subscriber  Female   \n",
       "\n",
       "            starttime            stoptime  ...  latitude_start  \\\n",
       "0 2014-06-30 23:57:00 2014-07-01 00:07:00  ...       41.939365   \n",
       "1 2014-06-30 23:56:00 2014-07-01 00:00:00  ...       41.864580   \n",
       "2 2014-06-30 23:33:00 2014-06-30 23:35:00  ...       41.921687   \n",
       "3 2014-06-30 23:26:00 2014-07-01 00:24:00  ...       41.877749   \n",
       "4 2014-06-30 23:16:00 2014-06-30 23:26:00  ...       41.872187   \n",
       "\n",
       "   longitude_start dpcapacity_start  to_station_id           to_station_name  \\\n",
       "0       -87.668385             15.0            303   Broadway & Cornelia Ave   \n",
       "1       -87.646930             15.0             22        May St & Taylor St   \n",
       "2       -87.653714             19.0            225  Halsted St & Dickens Ave   \n",
       "3       -87.649633             19.0            194      State St & Wacker Dr   \n",
       "4       -87.661501             15.0            134  Peoria St & Jackson Blvd   \n",
       "\n",
       "   latitude_end  longitude_end  dpcapacity_end  dia dia_semana  \n",
       "0     41.945512     -87.645980            15.0   30          0  \n",
       "1     41.869482     -87.655486            15.0   30          0  \n",
       "2     41.919936     -87.648830            15.0   30          0  \n",
       "3     41.887155     -87.627750            11.0   30          0  \n",
       "4     41.877749     -87.649633            19.0   30          0  \n",
       "\n",
       "[5 rows x 25 columns]"
      ]
     },
     "execution_count": 10,
     "metadata": {},
     "output_type": "execute_result"
    }
   ],
   "source": [
    "# Verificando as colunas novas\n",
    "df.head()"
   ]
  },
  {
   "cell_type": "code",
   "execution_count": 11,
   "id": "bc5d3ff8",
   "metadata": {
    "execution": {
     "iopub.execute_input": "2023-06-05T19:14:18.672554Z",
     "iopub.status.busy": "2023-06-05T19:14:18.671812Z",
     "iopub.status.idle": "2023-06-05T19:14:20.222836Z",
     "shell.execute_reply": "2023-06-05T19:14:20.221845Z"
    },
    "papermill": {
     "duration": 1.563832,
     "end_time": "2023-06-05T19:14:20.225432",
     "exception": false,
     "start_time": "2023-06-05T19:14:18.661600",
     "status": "completed"
    },
    "tags": []
   },
   "outputs": [
    {
     "name": "stdout",
     "output_type": "stream",
     "text": [
      "(9495235, 25)\n"
     ]
    }
   ],
   "source": [
    "# Removendo as viagens maiores que um dia e menores que 0 segundos\n",
    "df = df.loc[(df['tripduration'] >= 0) & (df['tripduration'] <= 24 * 60)]\n",
    "\n",
    "# Verificando as dimensões do dataframe\n",
    "print(df.shape)"
   ]
  },
  {
   "cell_type": "code",
   "execution_count": 12,
   "id": "4840d9d3",
   "metadata": {
    "execution": {
     "iopub.execute_input": "2023-06-05T19:14:20.244809Z",
     "iopub.status.busy": "2023-06-05T19:14:20.244411Z",
     "iopub.status.idle": "2023-06-05T19:14:26.660915Z",
     "shell.execute_reply": "2023-06-05T19:14:26.659177Z"
    },
    "papermill": {
     "duration": 6.42824,
     "end_time": "2023-06-05T19:14:26.663048",
     "exception": false,
     "start_time": "2023-06-05T19:14:20.234808",
     "status": "completed"
    },
    "tags": []
   },
   "outputs": [
    {
     "name": "stdout",
     "output_type": "stream",
     "text": [
      "trip_id              0\n",
      "year                 0\n",
      "month                0\n",
      "week                 0\n",
      "day                  0\n",
      "hour                 0\n",
      "usertype             0\n",
      "gender               0\n",
      "starttime            0\n",
      "stoptime             0\n",
      "tripduration         0\n",
      "temperature          0\n",
      "events               0\n",
      "from_station_id      0\n",
      "from_station_name    0\n",
      "latitude_start       0\n",
      "longitude_start      0\n",
      "dpcapacity_start     0\n",
      "to_station_id        0\n",
      "to_station_name      0\n",
      "latitude_end         0\n",
      "longitude_end        0\n",
      "dpcapacity_end       0\n",
      "dia                  0\n",
      "dia_semana           0\n",
      "dtype: int64\n"
     ]
    }
   ],
   "source": [
    "# Verificar valores ausentes\n",
    "print(df.isna().sum())"
   ]
  },
  {
   "cell_type": "code",
   "execution_count": 13,
   "id": "6a83ae40",
   "metadata": {
    "execution": {
     "iopub.execute_input": "2023-06-05T19:14:26.682931Z",
     "iopub.status.busy": "2023-06-05T19:14:26.682525Z",
     "iopub.status.idle": "2023-06-05T19:14:28.008531Z",
     "shell.execute_reply": "2023-06-05T19:14:28.007451Z"
    },
    "papermill": {
     "duration": 1.33805,
     "end_time": "2023-06-05T19:14:28.010586",
     "exception": false,
     "start_time": "2023-06-05T19:14:26.672536",
     "status": "completed"
    },
    "tags": []
   },
   "outputs": [
    {
     "name": "stdout",
     "output_type": "stream",
     "text": [
      "Existem duplicatas no atributo 'trip_id'.\n"
     ]
    }
   ],
   "source": [
    "duplicados = df.duplicated(subset='trip_id', keep=False)\n",
    "\n",
    "# Verificar se existem duplicatas\n",
    "if duplicados.any():\n",
    "    print(\"Existem duplicatas no atributo 'trip_id'.\")\n",
    "else:\n",
    "    print(\"Não existem duplicatas no atributo 'trip_id'.\")"
   ]
  },
  {
   "cell_type": "code",
   "execution_count": 14,
   "id": "96f4c92a",
   "metadata": {
    "execution": {
     "iopub.execute_input": "2023-06-05T19:14:28.034325Z",
     "iopub.status.busy": "2023-06-05T19:14:28.033070Z",
     "iopub.status.idle": "2023-06-05T19:14:30.384801Z",
     "shell.execute_reply": "2023-06-05T19:14:30.382337Z"
    },
    "papermill": {
     "duration": 2.36516,
     "end_time": "2023-06-05T19:14:30.386928",
     "exception": false,
     "start_time": "2023-06-05T19:14:28.021768",
     "status": "completed"
    },
    "tags": []
   },
   "outputs": [
    {
     "name": "stdout",
     "output_type": "stream",
     "text": [
      "(9495188, 25)\n"
     ]
    }
   ],
   "source": [
    "# Retirando os trip_id duplicados\n",
    "df.drop_duplicates(subset='trip_id', keep='first', inplace=True)\n",
    "\n",
    "# Verificando as dimensões do dataframe\n",
    "print(df.shape)"
   ]
  },
  {
   "cell_type": "code",
   "execution_count": 15,
   "id": "84b519dd",
   "metadata": {
    "execution": {
     "iopub.execute_input": "2023-06-05T19:14:30.407933Z",
     "iopub.status.busy": "2023-06-05T19:14:30.407508Z",
     "iopub.status.idle": "2023-06-05T19:14:30.415226Z",
     "shell.execute_reply": "2023-06-05T19:14:30.414084Z"
    },
    "papermill": {
     "duration": 0.020353,
     "end_time": "2023-06-05T19:14:30.417172",
     "exception": false,
     "start_time": "2023-06-05T19:14:30.396819",
     "status": "completed"
    },
    "tags": []
   },
   "outputs": [],
   "source": [
    "from math import radians, sin, cos, sqrt, atan2\n",
    "def calcular_distancia(row):\n",
    "    lat1, lon1 = radians(row['latitude_start']), radians(row['longitude_start'])\n",
    "    lat2, lon2 = radians(row['latitude_end']), radians(row['longitude_end'])\n",
    "\n",
    "    # Raio médio da Terra em metros\n",
    "    raio_terra = 6371.0 * 1000  # em metros\n",
    "\n",
    "    # Diferenças das coordenadas\n",
    "    dlat = lat2 - lat1\n",
    "    dlon = lon2 - lon1\n",
    "\n",
    "    # Cálculo da fórmula da distância haversine\n",
    "    a = sin(dlat / 2)**2 + cos(lat1) * cos(lat2) * sin(dlon / 2)**2\n",
    "    c = 2 * atan2(sqrt(a), sqrt(1 - a))\n",
    "    distancia = raio_terra * c\n",
    "\n",
    "    return distancia"
   ]
  },
  {
   "cell_type": "code",
   "execution_count": 16,
   "id": "7b50c95c",
   "metadata": {
    "execution": {
     "iopub.execute_input": "2023-06-05T19:14:30.438938Z",
     "iopub.status.busy": "2023-06-05T19:14:30.437775Z",
     "iopub.status.idle": "2023-06-05T19:17:45.499241Z",
     "shell.execute_reply": "2023-06-05T19:17:45.497972Z"
    },
    "papermill": {
     "duration": 195.075708,
     "end_time": "2023-06-05T19:17:45.502569",
     "exception": false,
     "start_time": "2023-06-05T19:14:30.426861",
     "status": "completed"
    },
    "tags": []
   },
   "outputs": [],
   "source": [
    "df['distancia_metros'] = df.apply(calcular_distancia, axis=1)"
   ]
  },
  {
   "cell_type": "code",
   "execution_count": 17,
   "id": "80a3892f",
   "metadata": {
    "execution": {
     "iopub.execute_input": "2023-06-05T19:17:45.525933Z",
     "iopub.status.busy": "2023-06-05T19:17:45.524812Z",
     "iopub.status.idle": "2023-06-05T19:17:45.531401Z",
     "shell.execute_reply": "2023-06-05T19:17:45.530539Z"
    },
    "papermill": {
     "duration": 0.020319,
     "end_time": "2023-06-05T19:17:45.533589",
     "exception": false,
     "start_time": "2023-06-05T19:17:45.513270",
     "status": "completed"
    },
    "tags": []
   },
   "outputs": [],
   "source": [
    "from datetime import datetime\n",
    "\n",
    "nomes_dias = {\n",
    "    0: 'Segunda-feira',\n",
    "    1: 'Terça-feira',\n",
    "    2: 'Quarta-feira',\n",
    "    3: 'Quinta-feira',\n",
    "    4: 'Sexta-feira',\n",
    "    5: 'Sábado',\n",
    "    6: 'Domingo'\n",
    "}\n",
    "\n",
    "# Função para obter o nome do dia da semana em português\n",
    "def obter_nome_dia_semana(dia):\n",
    "    return nomes_dias[dia]"
   ]
  },
  {
   "cell_type": "code",
   "execution_count": 18,
   "id": "f57bd3e0",
   "metadata": {
    "execution": {
     "iopub.execute_input": "2023-06-05T19:17:45.554814Z",
     "iopub.status.busy": "2023-06-05T19:17:45.554409Z",
     "iopub.status.idle": "2023-06-05T19:17:47.212655Z",
     "shell.execute_reply": "2023-06-05T19:17:47.211368Z"
    },
    "papermill": {
     "duration": 1.671579,
     "end_time": "2023-06-05T19:17:47.215393",
     "exception": false,
     "start_time": "2023-06-05T19:17:45.543814",
     "status": "completed"
    },
    "tags": []
   },
   "outputs": [],
   "source": [
    "# Aplicar a função obter_nome_dia_semana para criar a nova coluna 'nome_dia_semana'\n",
    "df['nome_dia_semana'] = df['day'].apply(obter_nome_dia_semana)"
   ]
  },
  {
   "cell_type": "code",
   "execution_count": 19,
   "id": "487e7b9f",
   "metadata": {
    "execution": {
     "iopub.execute_input": "2023-06-05T19:17:47.234881Z",
     "iopub.status.busy": "2023-06-05T19:17:47.234543Z",
     "iopub.status.idle": "2023-06-05T19:17:47.254971Z",
     "shell.execute_reply": "2023-06-05T19:17:47.254074Z"
    },
    "papermill": {
     "duration": 0.032076,
     "end_time": "2023-06-05T19:17:47.256760",
     "exception": false,
     "start_time": "2023-06-05T19:17:47.224684",
     "status": "completed"
    },
    "tags": []
   },
   "outputs": [
    {
     "data": {
      "text/html": [
       "<div>\n",
       "<style scoped>\n",
       "    .dataframe tbody tr th:only-of-type {\n",
       "        vertical-align: middle;\n",
       "    }\n",
       "\n",
       "    .dataframe tbody tr th {\n",
       "        vertical-align: top;\n",
       "    }\n",
       "\n",
       "    .dataframe thead th {\n",
       "        text-align: right;\n",
       "    }\n",
       "</style>\n",
       "<table border=\"1\" class=\"dataframe\">\n",
       "  <thead>\n",
       "    <tr style=\"text-align: right;\">\n",
       "      <th></th>\n",
       "      <th>trip_id</th>\n",
       "      <th>year</th>\n",
       "      <th>month</th>\n",
       "      <th>week</th>\n",
       "      <th>day</th>\n",
       "      <th>hour</th>\n",
       "      <th>usertype</th>\n",
       "      <th>gender</th>\n",
       "      <th>starttime</th>\n",
       "      <th>stoptime</th>\n",
       "      <th>...</th>\n",
       "      <th>dpcapacity_start</th>\n",
       "      <th>to_station_id</th>\n",
       "      <th>to_station_name</th>\n",
       "      <th>latitude_end</th>\n",
       "      <th>longitude_end</th>\n",
       "      <th>dpcapacity_end</th>\n",
       "      <th>dia</th>\n",
       "      <th>dia_semana</th>\n",
       "      <th>distancia_metros</th>\n",
       "      <th>nome_dia_semana</th>\n",
       "    </tr>\n",
       "  </thead>\n",
       "  <tbody>\n",
       "    <tr>\n",
       "      <th>0</th>\n",
       "      <td>2355134</td>\n",
       "      <td>2014</td>\n",
       "      <td>6</td>\n",
       "      <td>27</td>\n",
       "      <td>0</td>\n",
       "      <td>23</td>\n",
       "      <td>Subscriber</td>\n",
       "      <td>Male</td>\n",
       "      <td>2014-06-30 23:57:00</td>\n",
       "      <td>2014-07-01 00:07:00</td>\n",
       "      <td>...</td>\n",
       "      <td>15.0</td>\n",
       "      <td>303</td>\n",
       "      <td>Broadway &amp; Cornelia Ave</td>\n",
       "      <td>41.945512</td>\n",
       "      <td>-87.645980</td>\n",
       "      <td>15.0</td>\n",
       "      <td>30</td>\n",
       "      <td>0</td>\n",
       "      <td>1975.126547</td>\n",
       "      <td>Segunda-feira</td>\n",
       "    </tr>\n",
       "    <tr>\n",
       "      <th>1</th>\n",
       "      <td>2355133</td>\n",
       "      <td>2014</td>\n",
       "      <td>6</td>\n",
       "      <td>27</td>\n",
       "      <td>0</td>\n",
       "      <td>23</td>\n",
       "      <td>Subscriber</td>\n",
       "      <td>Male</td>\n",
       "      <td>2014-06-30 23:56:00</td>\n",
       "      <td>2014-07-01 00:00:00</td>\n",
       "      <td>...</td>\n",
       "      <td>15.0</td>\n",
       "      <td>22</td>\n",
       "      <td>May St &amp; Taylor St</td>\n",
       "      <td>41.869482</td>\n",
       "      <td>-87.655486</td>\n",
       "      <td>15.0</td>\n",
       "      <td>30</td>\n",
       "      <td>0</td>\n",
       "      <td>893.939969</td>\n",
       "      <td>Segunda-feira</td>\n",
       "    </tr>\n",
       "    <tr>\n",
       "      <th>2</th>\n",
       "      <td>2355130</td>\n",
       "      <td>2014</td>\n",
       "      <td>6</td>\n",
       "      <td>27</td>\n",
       "      <td>0</td>\n",
       "      <td>23</td>\n",
       "      <td>Subscriber</td>\n",
       "      <td>Male</td>\n",
       "      <td>2014-06-30 23:33:00</td>\n",
       "      <td>2014-06-30 23:35:00</td>\n",
       "      <td>...</td>\n",
       "      <td>19.0</td>\n",
       "      <td>225</td>\n",
       "      <td>Halsted St &amp; Dickens Ave</td>\n",
       "      <td>41.919936</td>\n",
       "      <td>-87.648830</td>\n",
       "      <td>15.0</td>\n",
       "      <td>30</td>\n",
       "      <td>0</td>\n",
       "      <td>448.547075</td>\n",
       "      <td>Segunda-feira</td>\n",
       "    </tr>\n",
       "    <tr>\n",
       "      <th>3</th>\n",
       "      <td>2355129</td>\n",
       "      <td>2014</td>\n",
       "      <td>6</td>\n",
       "      <td>27</td>\n",
       "      <td>0</td>\n",
       "      <td>23</td>\n",
       "      <td>Subscriber</td>\n",
       "      <td>Female</td>\n",
       "      <td>2014-06-30 23:26:00</td>\n",
       "      <td>2014-07-01 00:24:00</td>\n",
       "      <td>...</td>\n",
       "      <td>19.0</td>\n",
       "      <td>194</td>\n",
       "      <td>State St &amp; Wacker Dr</td>\n",
       "      <td>41.887155</td>\n",
       "      <td>-87.627750</td>\n",
       "      <td>11.0</td>\n",
       "      <td>30</td>\n",
       "      <td>0</td>\n",
       "      <td>2091.854302</td>\n",
       "      <td>Segunda-feira</td>\n",
       "    </tr>\n",
       "    <tr>\n",
       "      <th>4</th>\n",
       "      <td>2355128</td>\n",
       "      <td>2014</td>\n",
       "      <td>6</td>\n",
       "      <td>27</td>\n",
       "      <td>0</td>\n",
       "      <td>23</td>\n",
       "      <td>Subscriber</td>\n",
       "      <td>Female</td>\n",
       "      <td>2014-06-30 23:16:00</td>\n",
       "      <td>2014-06-30 23:26:00</td>\n",
       "      <td>...</td>\n",
       "      <td>15.0</td>\n",
       "      <td>134</td>\n",
       "      <td>Peoria St &amp; Jackson Blvd</td>\n",
       "      <td>41.877749</td>\n",
       "      <td>-87.649633</td>\n",
       "      <td>19.0</td>\n",
       "      <td>30</td>\n",
       "      <td>0</td>\n",
       "      <td>1161.055830</td>\n",
       "      <td>Segunda-feira</td>\n",
       "    </tr>\n",
       "  </tbody>\n",
       "</table>\n",
       "<p>5 rows × 27 columns</p>\n",
       "</div>"
      ],
      "text/plain": [
       "   trip_id  year  month  week  day  hour    usertype  gender  \\\n",
       "0  2355134  2014      6    27    0    23  Subscriber    Male   \n",
       "1  2355133  2014      6    27    0    23  Subscriber    Male   \n",
       "2  2355130  2014      6    27    0    23  Subscriber    Male   \n",
       "3  2355129  2014      6    27    0    23  Subscriber  Female   \n",
       "4  2355128  2014      6    27    0    23  Subscriber  Female   \n",
       "\n",
       "            starttime            stoptime  ...  dpcapacity_start  \\\n",
       "0 2014-06-30 23:57:00 2014-07-01 00:07:00  ...              15.0   \n",
       "1 2014-06-30 23:56:00 2014-07-01 00:00:00  ...              15.0   \n",
       "2 2014-06-30 23:33:00 2014-06-30 23:35:00  ...              19.0   \n",
       "3 2014-06-30 23:26:00 2014-07-01 00:24:00  ...              19.0   \n",
       "4 2014-06-30 23:16:00 2014-06-30 23:26:00  ...              15.0   \n",
       "\n",
       "   to_station_id           to_station_name  latitude_end longitude_end  \\\n",
       "0            303   Broadway & Cornelia Ave     41.945512    -87.645980   \n",
       "1             22        May St & Taylor St     41.869482    -87.655486   \n",
       "2            225  Halsted St & Dickens Ave     41.919936    -87.648830   \n",
       "3            194      State St & Wacker Dr     41.887155    -87.627750   \n",
       "4            134  Peoria St & Jackson Blvd     41.877749    -87.649633   \n",
       "\n",
       "   dpcapacity_end  dia  dia_semana  distancia_metros nome_dia_semana  \n",
       "0            15.0   30           0       1975.126547   Segunda-feira  \n",
       "1            15.0   30           0        893.939969   Segunda-feira  \n",
       "2            15.0   30           0        448.547075   Segunda-feira  \n",
       "3            11.0   30           0       2091.854302   Segunda-feira  \n",
       "4            19.0   30           0       1161.055830   Segunda-feira  \n",
       "\n",
       "[5 rows x 27 columns]"
      ]
     },
     "execution_count": 19,
     "metadata": {},
     "output_type": "execute_result"
    }
   ],
   "source": [
    "df.head()"
   ]
  },
  {
   "cell_type": "markdown",
   "id": "7f87d98f",
   "metadata": {
    "papermill": {
     "duration": 0.008551,
     "end_time": "2023-06-05T19:17:47.274508",
     "exception": false,
     "start_time": "2023-06-05T19:17:47.265957",
     "status": "completed"
    },
    "tags": []
   },
   "source": [
    "## Analyze\n",
    "Vamos fazer uma análise explorando algumas tabelas"
   ]
  },
  {
   "cell_type": "code",
   "execution_count": 20,
   "id": "21c6667f",
   "metadata": {
    "execution": {
     "iopub.execute_input": "2023-06-05T19:17:47.293765Z",
     "iopub.status.busy": "2023-06-05T19:17:47.293370Z",
     "iopub.status.idle": "2023-06-05T19:17:48.634808Z",
     "shell.execute_reply": "2023-06-05T19:17:48.634036Z"
    },
    "papermill": {
     "duration": 1.3538,
     "end_time": "2023-06-05T19:17:48.636852",
     "exception": false,
     "start_time": "2023-06-05T19:17:47.283052",
     "status": "completed"
    },
    "tags": []
   },
   "outputs": [
    {
     "name": "stdout",
     "output_type": "stream",
     "text": [
      "      usertype nome_dia_semana  contagem\n",
      "0     Customer         Domingo       209\n",
      "1     Customer    Quarta-feira       127\n",
      "2     Customer    Quinta-feira       151\n",
      "3     Customer   Segunda-feira       206\n",
      "4     Customer     Sexta-feira       157\n",
      "5     Customer          Sábado       237\n",
      "6     Customer     Terça-feira       190\n",
      "7    Dependent         Domingo         8\n",
      "8    Dependent    Quarta-feira        31\n",
      "9    Dependent    Quinta-feira        33\n",
      "10   Dependent   Segunda-feira        53\n",
      "11   Dependent     Sexta-feira        13\n",
      "12   Dependent          Sábado         8\n",
      "13   Dependent     Terça-feira        32\n",
      "14  Subscriber         Domingo    921026\n",
      "15  Subscriber    Quarta-feira   1537871\n",
      "16  Subscriber    Quinta-feira   1530484\n",
      "17  Subscriber   Segunda-feira   1476382\n",
      "18  Subscriber     Sexta-feira   1458284\n",
      "19  Subscriber          Sábado    979186\n",
      "20  Subscriber     Terça-feira   1590500\n"
     ]
    }
   ],
   "source": [
    "# Agrupar e contar os registros por usertype e nome_dia_semana\n",
    "tabela_contagem = df.groupby(['usertype', 'nome_dia_semana']).size().reset_index(name='contagem')\n",
    "\n",
    "# Exibindo a tabela de contagem\n",
    "print(tabela_contagem)"
   ]
  },
  {
   "cell_type": "code",
   "execution_count": 21,
   "id": "a8fc4696",
   "metadata": {
    "execution": {
     "iopub.execute_input": "2023-06-05T19:17:48.658512Z",
     "iopub.status.busy": "2023-06-05T19:17:48.657928Z",
     "iopub.status.idle": "2023-06-05T19:17:49.489460Z",
     "shell.execute_reply": "2023-06-05T19:17:49.488590Z"
    },
    "papermill": {
     "duration": 0.844344,
     "end_time": "2023-06-05T19:17:49.491284",
     "exception": false,
     "start_time": "2023-06-05T19:17:48.646940",
     "status": "completed"
    },
    "tags": []
   },
   "outputs": [
    {
     "name": "stdout",
     "output_type": "stream",
     "text": [
      "      usertype  month  contagem\n",
      "0     Customer      1        67\n",
      "1     Customer      2        16\n",
      "2     Customer      3        14\n",
      "3     Customer      4        99\n",
      "4     Customer      5       133\n",
      "5     Customer      6       159\n",
      "6     Customer      7       352\n",
      "7     Customer      8       227\n",
      "8     Customer      9       125\n",
      "9     Customer     10        43\n",
      "10    Customer     11        36\n",
      "11    Customer     12         6\n",
      "12   Dependent      1         6\n",
      "13   Dependent      2        11\n",
      "14   Dependent      3        10\n",
      "15   Dependent      4         5\n",
      "16   Dependent      5        11\n",
      "17   Dependent      6         8\n",
      "18   Dependent      7        31\n",
      "19   Dependent      8        35\n",
      "20   Dependent      9        26\n",
      "21   Dependent     10        20\n",
      "22   Dependent     11        11\n",
      "23   Dependent     12         4\n",
      "24  Subscriber      1    271642\n",
      "25  Subscriber      2    305948\n",
      "26  Subscriber      3    437905\n",
      "27  Subscriber      4    621584\n",
      "28  Subscriber      5    869440\n",
      "29  Subscriber      6   1178058\n",
      "30  Subscriber      7   1279111\n",
      "31  Subscriber      8   1304409\n",
      "32  Subscriber      9   1189816\n",
      "33  Subscriber     10    997649\n",
      "34  Subscriber     11    643509\n",
      "35  Subscriber     12    394662\n"
     ]
    }
   ],
   "source": [
    "# Agrupar e contar os registros por usertype e month\n",
    "tabela_contagem = df.groupby(['usertype', 'month']).size().reset_index(name='contagem')\n",
    "\n",
    "# Exibindo a tabela de contagem\n",
    "print(tabela_contagem)"
   ]
  },
  {
   "cell_type": "markdown",
   "id": "a5b0caaa",
   "metadata": {
    "papermill": {
     "duration": 0.009195,
     "end_time": "2023-06-05T19:17:49.510339",
     "exception": false,
     "start_time": "2023-06-05T19:17:49.501144",
     "status": "completed"
    },
    "tags": []
   },
   "source": [
    "### Findings 1\n",
    "Customers (clientes que compram o passe de 24h) normalmente andam aos finais de semana, diferentes dos Subscriber's (assinantes anuais), que utilizam mais aos dias de semana.\n",
    "Também é perceptível que o período de Junho até Setembro, equivalente ao verão em Chicago, é onde os dois tipos mais costumam andar."
   ]
  },
  {
   "cell_type": "code",
   "execution_count": 22,
   "id": "f55d3f06",
   "metadata": {
    "execution": {
     "iopub.execute_input": "2023-06-05T19:17:49.532959Z",
     "iopub.status.busy": "2023-06-05T19:17:49.532512Z",
     "iopub.status.idle": "2023-06-05T19:17:50.937492Z",
     "shell.execute_reply": "2023-06-05T19:17:50.936378Z"
    },
    "papermill": {
     "duration": 1.425013,
     "end_time": "2023-06-05T19:17:50.945155",
     "exception": false,
     "start_time": "2023-06-05T19:17:49.520142",
     "status": "completed"
    },
    "tags": []
   },
   "outputs": [
    {
     "name": "stdout",
     "output_type": "stream",
     "text": [
      "      usertype nome_dia_semana  media_distancia\n",
      "0     Customer         Domingo      2270.447587\n",
      "1     Customer    Quarta-feira      1636.011761\n",
      "2     Customer    Quinta-feira      1718.335248\n",
      "3     Customer   Segunda-feira      1720.652658\n",
      "4     Customer     Sexta-feira      1683.853020\n",
      "5     Customer          Sábado      2126.745432\n",
      "6     Customer     Terça-feira      1787.766520\n",
      "7    Dependent         Domingo       971.106752\n",
      "8    Dependent    Quarta-feira      1406.999764\n",
      "9    Dependent    Quinta-feira      1492.659932\n",
      "10   Dependent   Segunda-feira      1477.846127\n",
      "11   Dependent     Sexta-feira      1020.970943\n",
      "12   Dependent          Sábado       727.552643\n",
      "13   Dependent     Terça-feira      1201.508964\n",
      "14  Subscriber         Domingo      1984.429868\n",
      "15  Subscriber    Quarta-feira      1922.670543\n",
      "16  Subscriber    Quinta-feira      1915.504927\n",
      "17  Subscriber   Segunda-feira      1939.438302\n",
      "18  Subscriber     Sexta-feira      1902.890311\n",
      "19  Subscriber          Sábado      1984.912077\n",
      "20  Subscriber     Terça-feira      1941.974111\n"
     ]
    }
   ],
   "source": [
    "# Calcular a média da coluna 'distancia_metros' por usertype e nome_dia_semana\n",
    "tabela_media = df.groupby(['usertype', 'nome_dia_semana'])['distancia_metros'].mean().reset_index(name='media_distancia')\n",
    "\n",
    "# Exibindo a tabela de média\n",
    "print(tabela_media)"
   ]
  },
  {
   "cell_type": "code",
   "execution_count": 23,
   "id": "c1f657e6",
   "metadata": {
    "execution": {
     "iopub.execute_input": "2023-06-05T19:17:50.977594Z",
     "iopub.status.busy": "2023-06-05T19:17:50.977029Z",
     "iopub.status.idle": "2023-06-05T19:17:51.950306Z",
     "shell.execute_reply": "2023-06-05T19:17:51.948199Z"
    },
    "papermill": {
     "duration": 0.990801,
     "end_time": "2023-06-05T19:17:51.952928",
     "exception": false,
     "start_time": "2023-06-05T19:17:50.962127",
     "status": "completed"
    },
    "tags": []
   },
   "outputs": [
    {
     "name": "stdout",
     "output_type": "stream",
     "text": [
      "      usertype  month  media_distancia\n",
      "0     Customer      1      1406.946018\n",
      "1     Customer      2      2238.489700\n",
      "2     Customer      3      2818.023873\n",
      "3     Customer      4      1708.147513\n",
      "4     Customer      5      1654.104260\n",
      "5     Customer      6      1549.660269\n",
      "6     Customer      7      1941.658848\n",
      "7     Customer      8      1961.879052\n",
      "8     Customer      9      2652.964941\n",
      "9     Customer     10      1467.620937\n",
      "10    Customer     11      1970.285401\n",
      "11    Customer     12       799.713704\n",
      "12   Dependent      1      1263.594282\n",
      "13   Dependent      2      1227.931729\n",
      "14   Dependent      3      1346.250180\n",
      "15   Dependent      4      1597.292697\n",
      "16   Dependent      5      1367.361234\n",
      "17   Dependent      6      1520.091253\n",
      "18   Dependent      7      1510.354168\n",
      "19   Dependent      8      1571.610801\n",
      "20   Dependent      9       970.454979\n",
      "21   Dependent     10      1279.262654\n",
      "22   Dependent     11       940.748974\n",
      "23   Dependent     12       944.659345\n",
      "24  Subscriber      1      1677.498721\n",
      "25  Subscriber      2      1750.769086\n",
      "26  Subscriber      3      1805.997952\n",
      "27  Subscriber      4      1910.342554\n",
      "28  Subscriber      5      1984.097347\n",
      "29  Subscriber      6      2049.284226\n",
      "30  Subscriber      7      2040.175747\n",
      "31  Subscriber      8      2008.685830\n",
      "32  Subscriber      9      1967.059252\n",
      "33  Subscriber     10      1883.308552\n",
      "34  Subscriber     11      1796.756755\n",
      "35  Subscriber     12      1704.345359\n"
     ]
    }
   ],
   "source": [
    "# Calcular a média da coluna 'distancia_metros' por usertype e month\n",
    "tabela_media = df.groupby(['usertype', 'month'])['distancia_metros'].mean().reset_index(name='media_distancia')\n",
    "\n",
    "# Exibindo a tabela de média\n",
    "print(tabela_media)"
   ]
  },
  {
   "cell_type": "markdown",
   "id": "596a028b",
   "metadata": {
    "papermill": {
     "duration": 0.010532,
     "end_time": "2023-06-05T19:17:51.975048",
     "exception": false,
     "start_time": "2023-06-05T19:17:51.964516",
     "status": "completed"
    },
    "tags": []
   },
   "source": [
    "### Findings 2\n",
    "Subscriber's tem uma viagem maior, independente do ddia da semana.\n",
    "Ambos os tipos percorreram uma distância maior no pico do verão\n"
   ]
  },
  {
   "cell_type": "code",
   "execution_count": 24,
   "id": "e52a22ab",
   "metadata": {
    "execution": {
     "iopub.execute_input": "2023-06-05T19:17:52.001451Z",
     "iopub.status.busy": "2023-06-05T19:17:52.001020Z",
     "iopub.status.idle": "2023-06-05T19:17:54.293529Z",
     "shell.execute_reply": "2023-06-05T19:17:54.292551Z"
    },
    "papermill": {
     "duration": 2.310523,
     "end_time": "2023-06-05T19:17:54.295975",
     "exception": false,
     "start_time": "2023-06-05T19:17:51.985452",
     "status": "completed"
    },
    "tags": []
   },
   "outputs": [
    {
     "name": "stdout",
     "output_type": "stream",
     "text": [
      "     usertype  contagem_zero\n",
      "0    Customer             38\n",
      "1   Dependent              7\n",
      "2  Subscriber         119954\n"
     ]
    }
   ],
   "source": [
    "# Filtrar as linhas em que 'distancia_metros' é igual a 0\n",
    "df_zero_distancia = df[df['distancia_metros'] == 0]\n",
    "\n",
    "# Contar quantas vezes 'distancia_metros' é igual a 0 por usertype\n",
    "tabela_contagem_zero = df_zero_distancia.groupby('usertype').size().reset_index(name='contagem_zero')\n",
    "\n",
    "# Exibindo a tabela de contagem de 'distancia_metros' igual a 0\n",
    "print(tabela_contagem_zero)"
   ]
  },
  {
   "cell_type": "markdown",
   "id": "a4d39125",
   "metadata": {
    "papermill": {
     "duration": 0.00982,
     "end_time": "2023-06-05T19:17:54.316884",
     "exception": false,
     "start_time": "2023-06-05T19:17:54.307064",
     "status": "completed"
    },
    "tags": []
   },
   "source": [
    "### Findings 3\n",
    "Subscriber's normalmente retornam as suas bikes para o mesmo porto de onde saíram"
   ]
  },
  {
   "cell_type": "markdown",
   "id": "fdd8ee1b",
   "metadata": {
    "papermill": {
     "duration": 0.009355,
     "end_time": "2023-06-05T19:17:54.335931",
     "exception": false,
     "start_time": "2023-06-05T19:17:54.326576",
     "status": "completed"
    },
    "tags": []
   },
   "source": [
    "## Share\n",
    "Compartilharei as visualizações para que fique claro para os stakeholders do projeto"
   ]
  },
  {
   "cell_type": "code",
   "execution_count": 25,
   "id": "9097be83",
   "metadata": {
    "execution": {
     "iopub.execute_input": "2023-06-05T19:17:54.357757Z",
     "iopub.status.busy": "2023-06-05T19:17:54.357068Z",
     "iopub.status.idle": "2023-06-05T19:17:57.903758Z",
     "shell.execute_reply": "2023-06-05T19:17:57.901864Z"
    },
    "papermill": {
     "duration": 3.561237,
     "end_time": "2023-06-05T19:17:57.906525",
     "exception": false,
     "start_time": "2023-06-05T19:17:54.345288",
     "status": "completed"
    },
    "tags": []
   },
   "outputs": [
    {
     "data": {
      "image/png": "[encoded data removed]",
      "text/plain": [
       "<Figure size 1000x600 with 1 Axes>"
      ]
     },
     "metadata": {},
     "output_type": "display_data"
    }
   ],
   "source": [
    "import seaborn as sns\n",
    "import matplotlib.pyplot as plt\n",
    "\n",
    "# Definir a ordem dos dias da semana\n",
    "ordem_dias_semana = ['Segunda-feira', 'Terça-feira', 'Quarta-feira', 'Quinta-feira', 'Sexta-feira', 'Sábado', 'Domingo']\n",
    "\n",
    "# Agrupar e contar os registros por usertype e nome_dia_semana\n",
    "tabela_contagem = df.groupby(['usertype', 'nome_dia_semana']).size().reset_index(name='contagem')\n",
    "\n",
    "# Definir a ordem dos dias da semana como uma categoria categórica\n",
    "tabela_contagem['nome_dia_semana'] = pd.Categorical(tabela_contagem['nome_dia_semana'], categories=ordem_dias_semana, ordered=True)\n",
    "\n",
    "# Ordenar o DataFrame pela ordem dos dias da semana\n",
    "tabela_contagem = tabela_contagem.sort_values(by='nome_dia_semana')\n",
    "\n",
    "# Plotar o gráfico de barras\n",
    "plt.figure(figsize=(10, 6))\n",
    "sns.barplot(x='nome_dia_semana', y='contagem', hue='usertype', data=tabela_contagem)\n",
    "\n",
    "# Configurar os rótulos dos eixos e a legenda\n",
    "plt.xlabel('Dias da Semana')\n",
    "plt.ylabel('Contagem de Registros')\n",
    "plt.title('Contagem de Registros por Dia da Semana e Tipo de Usuário')\n",
    "plt.legend(title='Tipo de Usuário')\n",
    "\n",
    "# Usar escala logarítmica no eixo y\n",
    "plt.yscale('log')\n",
    "\n",
    "# Exibir o gráfico\n",
    "plt.show()"
   ]
  },
  {
   "cell_type": "code",
   "execution_count": 26,
   "id": "47789d8d",
   "metadata": {
    "execution": {
     "iopub.execute_input": "2023-06-05T19:17:57.929802Z",
     "iopub.status.busy": "2023-06-05T19:17:57.929383Z",
     "iopub.status.idle": "2023-06-05T19:17:59.671148Z",
     "shell.execute_reply": "2023-06-05T19:17:59.669906Z"
    },
    "papermill": {
     "duration": 1.756057,
     "end_time": "2023-06-05T19:17:59.673865",
     "exception": false,
     "start_time": "2023-06-05T19:17:57.917808",
     "status": "completed"
    },
    "tags": []
   },
   "outputs": [
    {
     "data": {
      "image/png": "[encoded data removed]",
      "text/plain": [
       "<Figure size 1000x600 with 1 Axes>"
      ]
     },
     "metadata": {},
     "output_type": "display_data"
    }
   ],
   "source": [
    "# Definir a ordem dos meses\n",
    "ordem_meses = [1, 2, 3, 4, 5, 6, 7, 8, 9, 10, 11, 12]\n",
    "\n",
    "# Agrupar e contar os registros por usertype e month\n",
    "tabela_contagem = df.groupby(['usertype', 'month']).size().reset_index(name='contagem')\n",
    "\n",
    "# Ordenar o DataFrame pela ordem dos meses\n",
    "tabela_contagem = tabela_contagem.sort_values(by='month', key=lambda x: pd.to_datetime(x, format='%m').dt.month)\n",
    "\n",
    "# Plotar o gráfico de barras\n",
    "plt.figure(figsize=(10, 6))\n",
    "sns.barplot(x='month', y='contagem', hue='usertype', data=tabela_contagem)\n",
    "\n",
    "# Configurar os rótulos dos eixos e a legenda\n",
    "plt.xlabel('Mês')\n",
    "plt.ylabel('Contagem de Registros')\n",
    "plt.title('Contagem de Registros por Mês e Tipo de Usuário')\n",
    "plt.legend(title='Tipo de Usuário')\n",
    "\n",
    "# Usar escala logarítmica no eixo y\n",
    "plt.yscale('log')\n",
    "\n",
    "# Exibir o gráfico\n",
    "plt.show()"
   ]
  },
  {
   "cell_type": "code",
   "execution_count": 27,
   "id": "850b33e5",
   "metadata": {
    "execution": {
     "iopub.execute_input": "2023-06-05T19:17:59.699274Z",
     "iopub.status.busy": "2023-06-05T19:17:59.697954Z",
     "iopub.status.idle": "2023-06-05T19:18:01.403372Z",
     "shell.execute_reply": "2023-06-05T19:18:01.402105Z"
    },
    "papermill": {
     "duration": 1.720103,
     "end_time": "2023-06-05T19:18:01.405788",
     "exception": false,
     "start_time": "2023-06-05T19:17:59.685685",
     "status": "completed"
    },
    "tags": []
   },
   "outputs": [
    {
     "data": {
      "image/png": "[encoded data removed]",
      "text/plain": [
       "<Figure size 1000x600 with 1 Axes>"
      ]
     },
     "metadata": {},
     "output_type": "display_data"
    }
   ],
   "source": [
    "# Agrupar e calcular a média de 'distancia_metros' por usertype e nome_dia_semana\n",
    "tabela_media = df.groupby(['usertype', 'nome_dia_semana'])['distancia_metros'].mean().reset_index(name='media_distancia')\n",
    "\n",
    "# Definir a ordem dos dias da semana como uma categoria categórica\n",
    "tabela_media['nome_dia_semana'] = pd.Categorical(tabela_media['nome_dia_semana'], categories=ordem_dias_semana, ordered=True)\n",
    "\n",
    "# Ordenar o DataFrame pela ordem dos dias da semana\n",
    "tabela_media = tabela_media.sort_values(by='nome_dia_semana')\n",
    "\n",
    "# Plotar o gráfico de barras\n",
    "plt.figure(figsize=(10, 6))\n",
    "sns.barplot(x='nome_dia_semana', y='media_distancia', hue='usertype', data=tabela_media)\n",
    "\n",
    "# Configurar os rótulos dos eixos e a legenda\n",
    "plt.xlabel('Dias da Semana')\n",
    "plt.ylabel('Média da Distância (metros)')\n",
    "plt.title('Média da Distância por Dia da Semana e Tipo de Usuário')\n",
    "plt.legend(title='Tipo de Usuário')\n",
    "\n",
    "# Exibir o gráfico\n",
    "plt.show()"
   ]
  },
  {
   "cell_type": "code",
   "execution_count": 28,
   "id": "205d77ba",
   "metadata": {
    "execution": {
     "iopub.execute_input": "2023-06-05T19:18:01.431092Z",
     "iopub.status.busy": "2023-06-05T19:18:01.430689Z",
     "iopub.status.idle": "2023-06-05T19:18:02.676591Z",
     "shell.execute_reply": "2023-06-05T19:18:02.675314Z"
    },
    "papermill": {
     "duration": 1.262324,
     "end_time": "2023-06-05T19:18:02.680441",
     "exception": false,
     "start_time": "2023-06-05T19:18:01.418117",
     "status": "completed"
    },
    "tags": []
   },
   "outputs": [
    {
     "data": {
      "image/png": "[encoded data removed]",
      "text/plain": [
       "<Figure size 1000x600 with 1 Axes>"
      ]
     },
     "metadata": {},
     "output_type": "display_data"
    }
   ],
   "source": [
    "# Agrupar e calcular a média de 'distancia_metros' por usertype e month\n",
    "tabela_media = df.groupby(['usertype', 'month'])['distancia_metros'].mean().reset_index(name='media_distancia')\n",
    "\n",
    "# Ordenar o DataFrame pela ordem dos meses\n",
    "tabela_media = tabela_media.sort_values(by='month')\n",
    "\n",
    "# Plotar o gráfico de barras\n",
    "plt.figure(figsize=(10, 6))\n",
    "sns.barplot(x='month', y='media_distancia', hue='usertype', data=tabela_media)\n",
    "\n",
    "# Configurar os rótulos dos eixos e a legenda\n",
    "plt.xlabel('Mês')\n",
    "plt.ylabel('Média da Distância (metros)')\n",
    "plt.title('Média da Distância por Mês e Tipo de Usuário')\n",
    "plt.legend(title='Tipo de Usuário')\n",
    "\n",
    "# Exibir o gráfico\n",
    "plt.show()"
   ]
  },
  {
   "cell_type": "code",
   "execution_count": 29,
   "id": "f3783a0c",
   "metadata": {
    "execution": {
     "iopub.execute_input": "2023-06-05T19:18:02.710051Z",
     "iopub.status.busy": "2023-06-05T19:18:02.709199Z",
     "iopub.status.idle": "2023-06-05T19:18:04.402657Z",
     "shell.execute_reply": "2023-06-05T19:18:04.401167Z"
    },
    "papermill": {
     "duration": 1.710437,
     "end_time": "2023-06-05T19:18:04.404778",
     "exception": false,
     "start_time": "2023-06-05T19:18:02.694341",
     "status": "completed"
    },
    "tags": []
   },
   "outputs": [
    {
     "data": {
      "image/png": "[encoded data removed]",
      "text/plain": [
       "<Figure size 1000x600 with 1 Axes>"
      ]
     },
     "metadata": {},
     "output_type": "display_data"
    }
   ],
   "source": [
    "# Agrupar e calcular a média de 'tripduration' por usertype e nome_dia_semana\n",
    "tabela_media = df.groupby(['usertype', 'nome_dia_semana'])['tripduration'].mean().reset_index(name='media_duracao')\n",
    "\n",
    "# Definir a ordem dos dias da semana como uma categoria categórica\n",
    "tabela_media['nome_dia_semana'] = pd.Categorical(tabela_media['nome_dia_semana'], categories=ordem_dias_semana, ordered=True)\n",
    "\n",
    "# Ordenar o DataFrame pela ordem dos dias da semana\n",
    "tabela_media = tabela_media.sort_values(by='nome_dia_semana')\n",
    "\n",
    "# Plotar o gráfico de barras\n",
    "plt.figure(figsize=(10, 6))\n",
    "sns.barplot(x='nome_dia_semana', y='media_duracao', hue='usertype', data=tabela_media)\n",
    "\n",
    "# Configurar os rótulos dos eixos e a legenda\n",
    "plt.xlabel('Dias da Semana')\n",
    "plt.ylabel('Média de Duração (minutos)')\n",
    "plt.title('Média da Duração da Viagem por Dia da Semana e Tipo de Usuário')\n",
    "plt.legend(title='Tipo de Usuário')\n",
    "\n",
    "# Exibir o gráfico\n",
    "plt.show()"
   ]
  },
  {
   "cell_type": "code",
   "execution_count": 30,
   "id": "1c00e531",
   "metadata": {
    "execution": {
     "iopub.execute_input": "2023-06-05T19:18:04.433499Z",
     "iopub.status.busy": "2023-06-05T19:18:04.431764Z",
     "iopub.status.idle": "2023-06-05T19:18:05.775374Z",
     "shell.execute_reply": "2023-06-05T19:18:05.774671Z"
    },
    "papermill": {
     "duration": 1.360321,
     "end_time": "2023-06-05T19:18:05.778252",
     "exception": false,
     "start_time": "2023-06-05T19:18:04.417931",
     "status": "completed"
    },
    "tags": []
   },
   "outputs": [
    {
     "data": {
      "image/png": "[encoded data removed]",
      "text/plain": [
       "<Figure size 1000x600 with 1 Axes>"
      ]
     },
     "metadata": {},
     "output_type": "display_data"
    }
   ],
   "source": [
    "# Agrupar e calcular a média de 'tripduration' por usertype e month\n",
    "tabela_media = df.groupby(['usertype', 'month'])['tripduration'].mean().reset_index(name='media_duracao')\n",
    "\n",
    "# Ordenar o DataFrame pela ordem dos meses\n",
    "tabela_media = tabela_media.sort_values(by='month')\n",
    "\n",
    "# Plotar o gráfico de barras\n",
    "plt.figure(figsize=(10, 6))\n",
    "sns.barplot(x='month', y='media_duracao', hue='usertype', data=tabela_media)\n",
    "\n",
    "# Configurar os rótulos dos eixos e a legenda\n",
    "plt.xlabel('Mês')\n",
    "plt.ylabel('Média de Duração (minutos)')\n",
    "plt.title('Média da Duração da Viagem por Mês e Tipo de Usuário')\n",
    "plt.legend(title='Tipo de Usuário')\n",
    "\n",
    "# Exibir o gráfico\n",
    "plt.show()"
   ]
  },
  {
   "cell_type": "markdown",
   "id": "ca5b65dc",
   "metadata": {
    "papermill": {
     "duration": 0.012902,
     "end_time": "2023-06-05T19:18:05.805854",
     "exception": false,
     "start_time": "2023-06-05T19:18:05.792952",
     "status": "completed"
    },
    "tags": []
   },
   "source": [
    "## Conclusion\n",
    "Os viajantes casuais (Customer) normalmente utilizam a bike por mais tempo e cobrer uma maior distância, o que acredito ser o uso voltado ao lazer. Também pode-se considerar tirar o maior proveito do veículo, tendo em mente que é um período de 24h de uso.\n",
    "Diferente do uso dos assinantes que é mais pragmático e mais raro aos finais de semana, o que acredito ser similar ao transporte público para trabalho ou escola. Conclue-se que os usuários casuais alugam as bikes para se divertirem e os usuários anuais utilizam como meio de transporte."
   ]
  }
 ],
 "metadata": {
  "kernelspec": {
   "display_name": "Python 3",
   "language": "python",
   "name": "python3"
  },
  "language_info": {
   "codemirror_mode": {
    "name": "ipython",
    "version": 3
   },
   "file_extension": ".py",
   "mimetype": "text/x-python",
   "name": "python",
   "nbconvert_exporter": "python",
   "pygments_lexer": "ipython3",
   "version": "3.10.10"
  },
  "papermill": {
   "default_parameters": {},
   "duration": 312.602821,
   "end_time": "2023-06-05T19:18:09.047651",
   "environment_variables": {},
   "exception": null,
   "input_path": "__notebook__.ipynb",
   "output_path": "__notebook__.ipynb",
   "parameters": {},
   "start_time": "2023-06-05T19:12:56.444830",
   "version": "2.4.0"
  }
 },
 "nbformat": 4,
 "nbformat_minor": 5
}
